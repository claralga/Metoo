{
 "cells": [
  {
   "cell_type": "code",
   "execution_count": 1,
   "metadata": {
    "id": "kV9SWKZSWAh0",
    "tags": []
   },
   "outputs": [],
   "source": [
    "from pprint import pprint\n",
    "import functools\n",
    "\n",
    "import torch\n",
    "from torch.utils.data import DataLoader\n",
    "import torch.nn.functional as F\n",
    "#from transformers import AutoModelForSequenceClassification, CamembertForMaskedLM, AutoTokenizer, AutoConfig\n",
    "from sklearn.metrics import confusion_matrix, f1_score\n",
    "\n",
    "import matplotlib.pyplot as plt\n",
    "import seaborn as sns\n",
    "import plotly.express as px\n",
    "from tqdm.notebook import tqdm\n",
    "\n",
    "import pandas as pd\n",
    "import torch\n",
    "from tqdm import tqdm, trange\n",
    "import numpy as np\n",
    "import csv\n",
    "\n",
    "\n",
    "# Importing specific libraries for data prerpcessing, model archtecture choice, training and evaluation\n",
    "from sklearn.model_selection import train_test_split\n",
    "from tensorflow.keras.preprocessing.sequence import pad_sequences\n",
    "from torch.utils.data import TensorDataset, DataLoader, RandomSampler, SequentialSampler\n",
    "from transformers import CamembertTokenizer, CamembertForSequenceClassification\n",
    "from transformers import AdamW"
   ]
  },
  {
   "cell_type": "code",
   "execution_count": 2,
   "metadata": {
    "id": "pADt5CykCKaz",
    "tags": []
   },
   "outputs": [],
   "source": [
    "def labeliser_tweet(df, nb_tweets=5, random_state=0):\n",
    "    \n",
    "    # Vérifier si le fichier \"label.csv\" existe et charger les tweet_id déjà labelisés\n",
    "    tweets_labelises = set()\n",
    "    try:\n",
    "        with open('label.csv', mode='r', encoding='utf-8') as f:\n",
    "            reader = csv.DictReader(f)\n",
    "            for row in reader:\n",
    "                tweets_labelises.add(row['tweet_id'])\n",
    "    except FileNotFoundError:\n",
    "        pass\n",
    "    \n",
    "    # Sélectionner un échantillon aléatoire de tweets non encore labelisés\n",
    "    df_a_labeliser = df[~df.index.isin(tweets_labelises)].sample(n=nb_tweets, random_state=random_state)\n",
    "    \n",
    "    # Labeliser les tweets sélectionnés et enregistrer les labels dans un fichier CSV\n",
    "    with open('label.csv', mode='a', newline='', encoding='utf-8') as f:\n",
    "        writer = csv.writer(f)\n",
    "        if f.tell() == 0:\n",
    "            writer.writerow(['tweet_id', 'text', 'label'])\n",
    "        for tweet_id, text in df_a_labeliser['text'].items():\n",
    "            label = input(f'Label pour le tweet suivant :\\n{text}\\n')\n",
    "            # Écrire les données labelisées dans le fichier CSV\n",
    "            writer.writerow([tweet_id, text, label])\n"
   ]
  },
  {
   "cell_type": "code",
   "execution_count": 3,
   "metadata": {
    "colab": {
     "base_uri": "https://localhost:8080/",
     "height": 329
    },
    "id": "fGUP7YlcanuW",
    "outputId": "9d6da307-a96e-45dc-ca7f-acd015856f90",
    "tags": []
   },
   "outputs": [],
   "source": [
    "df = pd.read_csv('data/data_concat_clean/base_annotation_fev23.csv', index_col='tweet_id').drop('Unnamed: 0', axis=1)"
   ]
  },
  {
   "cell_type": "code",
   "execution_count": 7,
   "metadata": {
    "colab": {
     "base_uri": "https://localhost:8080/"
    },
    "id": "BKjOXzht-kvr",
    "outputId": "18bd519c-92df-4ce6-c15c-ec4555f02a8c",
    "tags": []
   },
   "outputs": [
    {
     "name": "stdout",
     "output_type": "stream",
     "text": [
      "Label pour le tweet suivant :\n",
      "Homme femelle N°19: 🤳\"Fais très vite mon amour, car tu dois ensuite aller lui les torcher... Ta chérie qui t'aime\".  #feminisme #metoo #violencesconjugales https://t.co/wEyZ2ucc0c\n",
      "3\n",
      "Label pour le tweet suivant :\n",
      "Procès de #balancetonporc : Sandra Muller dénonce “une inversion des rôles où le prédateur devient la proie, la proie devient le prédateur\"  ➡ https://t.co/tXIFSsR12K https://t.co/law5XfRHTz\n",
      "1\n",
      "Label pour le tweet suivant :\n",
      "@canalplus, une réaction officielle peut-être sur les révélations visant @PierreMenes ?... #PierreMenesOut #balancetonporc   #BalanceTonMenes #JeNeSuisPasUneSalope https://t.co/ParThES1UG\n",
      "2\n",
      "Label pour le tweet suivant :\n",
      "“J’ai poussé un cri de colère” : jugée en diffamation, la journaliste Sandra Muller à l’origine de #Balancetonporc plaide “la libération de la parole des femmes” https://t.co/nHix95DBmq\n",
      "1\n",
      "Label pour le tweet suivant :\n",
      "https://t.co/wFK3baer5V … dossier sur anissa jbr (achat de follower ,consomation de stup escorting) #jeremstarcensure   #BalanceTonPorc   #jeremstarcensure #babybel    #LaVilla3 #fiansosurskyrock  #JeremstarGate  #BALANCETONBABYBEL  #BalanceTonPorc  #Balancetatruie  #LPEPDLA\n",
      "2\n",
      "Label pour le tweet suivant :\n",
      "@RC_ML pour continuer sur la vague de ce matin, la merveilleuse Nadia Daam @zappette parle, elle aussi, de son scepticisme de voir Mme Deneuve dans le métro à 8h du mat. #moiaussi #MeToo #BalanceTonPorc https://t.co/Ns8vVKXAS0 :QT: \"Les américains ont Oprah Winfrey et des débats sur Woody Allen, nous on a Elisabeth Lévy, des défenseurs du droit inaliénable à coller des mains au cul, et des débats sur les blagues de Tex !\"  Réécoutez le billet de Nadia Daam (@Zappette) #E1matin ⬇️ https://t.co/92svLYh4Vj\n",
      "2\n",
      "Label pour le tweet suivant :\n",
      "@sychazot Et comme elle ne va pas être nommée elle va encore instrumentaliser #metoo\n",
      "2\n",
      "Label pour le tweet suivant :\n",
      "@TPZ_Rap ... elle dénonce des choses ce qui a un lien avec le #balancetonporc ... la comparaison est pas nécessaire bref\n",
      "2\n",
      "Label pour le tweet suivant :\n",
      "On se demandera aussi si celles qui ont usé de leurs atouts via promotion canapé pour un poste parleront..#balancetonporc\n",
      "2\n",
      "Label pour le tweet suivant :\n",
      "ça critique Pierre Mènes mais ça klaxonne, siffle et traite les femmes quand ça passe en bande dans une Peugeot 206 💀💀💀 #PierreMenesOut #TPMP #balancetonporc\n",
      "2\n",
      "Label pour le tweet suivant :\n",
      "@SDJ_LCP a voté suite à la direction de remettre @frhaz à l'antenne .. étrangement ça ne choque pas beaucoup de monde .. c'est fini #Balancetonporc ? Où ça vaut que pour certains #Haziza https://t.co/EOFckFfNbp\n",
      "2\n",
      "Label pour le tweet suivant :\n",
      "Plaintes pour violences sexuelles (par le dessinateur Schvartz) -&gt; https://t.co/ymSfoZ7Wok #actualitéendessins #JM #LOL #violencessexuelles #agressionssexuelles #violencesfaitesauxfemmes #harcèlementsexuel #paroledesfemmes #balanceTonPorc #schvartz #weinsteinscandal\n",
      "1\n",
      "Label pour le tweet suivant :\n",
      "#GisèleHalimi était heureuse de voir qu'il y avait des ferments de révolte un peu partout   Exemple : #MeToo  Annick Cojean  Cléa @Zenon8703 https://t.co/z3svClWRO6\n",
      "2\n",
      "Label pour le tweet suivant :\n",
      "Vous pouvez également le faire au commissariat ou gendarmerie le/la plus proche de chez vous #balancetonporc https://t.co/qWsG8KMISx\n",
      "2\n",
      "Label pour le tweet suivant :\n",
      "Erdoğan le Dictateur islamiste !!! Insulte et amalgame volontaire avec des groupuscules terroristes. Erdoğan les combats depuis des lustres alors que les précédents les caressaient dans le sens du poil sans aucun gain !  #BalanceTonPastırma (contre attaque à #BalanceTonPorc)\n",
      "0\n",
      "Label pour le tweet suivant :\n",
      "Un peu d'humour #balancetonporc 😂 https://t.co/eL4JX56m0f\n",
      "2\n",
      "Label pour le tweet suivant :\n",
      "@FanJeanDujardin C bizarre de revoir #OSS117 au Brésil et ses répliques sexistes qq mois après #BalanceTonPorc .. Mais l'humour a tjs raison\n",
      "2\n",
      "Label pour le tweet suivant :\n",
      "#BalanceTonPorc Squeezie avait donc raison\n",
      "2\n",
      "Label pour le tweet suivant :\n",
      "@raphpradeau L'essentiel est qu'on laisse dans l'opacité le #MobbingEducationNationale et les violences sexuelles commises par des principaux et des proviseurs.  #metoo #moiaussi   #PasDeVague #OmertaEducatioNationale  https://t.co/ffGjK9kDQM\n",
      "2\n",
      "Label pour le tweet suivant :\n",
      "#MeToo  À celui qui m'a embrassé et frappé.\n",
      "3\n",
      "Label pour le tweet suivant :\n",
      "Regardez le point de vue de @grosfilley et l'interview d'Anne Morelli, l'une des signataires de la tribune publiée hier dans Le Monde qui dénonce un certain féminisme qui exprimerait \"une certaine haine des hommes\" https://t.co/hxjPAAQ43T #Jour1 #MeToo\n",
      "2\n",
      "Label pour le tweet suivant :\n",
      "RT @hrw au sujet du mouvement #MeToo en #Iran, où des voix s'élèvent pour demander une loi + forte concernant les violences contre les #femmes. https://t.co/W3yVudkzJq\n",
      "2\n",
      "Label pour le tweet suivant :\n",
      "Ta copine de bac à sable t'a volé ta pelle quand t'avais 3 ans? Ta voisine de classe t'a pas laissé copier sur sa dictée? Ta copine t'a quitté alors que vous vous étiez promis l'amour éternel à 14 ans? Défoule toi sur #Balancetapouffe OSEF. Les vrais pb sont là -&gt; #balancetonporc\n",
      "2\n",
      "Label pour le tweet suivant :\n",
      "Ce que #metoo a changé pour les journalistes https://t.co/j1bwq1bcz9\n",
      "1\n",
      "Label pour le tweet suivant :\n",
      "#MetooAmnesie  #metooinceste  Tu aimes ton metier, tu es obligé de t arrêter + de 3 mois car tu as peur, nausée, oppression, panique, flash, non-reconnaissance des gens en crises, concentration faible Et que ce n est pas de TA FAUTE! C est insupportable! SVP, Qui est concerné ?\n",
      "2\n",
      "Label pour le tweet suivant :\n",
      "Le chef du bureau de liaison d’Israël au Maroc dément les accusations d’abus sexuels #metoo https://t.co/TFeRW5lOPH\n",
      "1\n",
      "Label pour le tweet suivant :\n",
      "Même Habillé Avec Une Tunique XXL, Le Pervers Cherchera Toujours A Mater. #BalanceTonPorc\n",
      "3\n",
      "Label pour le tweet suivant :\n",
      "Ensemble, sortons du silence ! Appelez dès maintenant le 0805 802 804 ou le 0800 100 811 depuis l'outre-mer du lundi au vendredi de 10h à 19h. Témoignez pour vous. Témoigner pour les enfants victimes. Témoignez, tout simplement. @CIIVISE_contact  #Metooinceste #ViolenceSexuelles https://t.co/NoJky5WvM4\n",
      "2\n",
      "Label pour le tweet suivant :\n",
      "Grande différence toutefois dans cette édition 2018, qui était davantage placée sous le slogan #MeToo, plutôt que #ResistTrump. https://t.co/9aSHEs85xZ\n",
      "2\n",
      "Label pour le tweet suivant :\n",
      "Via @euronewsfr : Le producteur Harvey Weinstein exclu de l'Académie des Oscars https://t.co/WRV4LYbazT =C’est tout ?#balancetonporc\n",
      "1\n",
      "Label pour le tweet suivant :\n",
      "@AlexDevecchio @PascalPraud le binôme infâme. 2 ideologues d’extreme droite raciste islamophobe. Pas content que ‘les femmes françaises musulmanes n’aient pas utilisé le hashtag #balancetonporc ‘ car elles auraient peur de se faire égorgés: ils sont journalistes, jamais inquiètés https://t.co/C5DtnSXJBb :QT: 🔴🇫🇷#FRANCE : Mensonges d'@AlexDevecchio (journaliste au #Figaro) qui dit, je cite \"elles se font égorgées en bas de leurs cités\".🧐 #Mytho https://t.co/ORqkILKwn8\n",
      "2\n",
      "Label pour le tweet suivant :\n",
      "#MeToo libère la parole en #Egypte où le harcèlement sexuel reste encore tabou, explique le #NobelAlternatif @Mozn https://t.co/lgdzteIrhU\n",
      "1\n",
      "Label pour le tweet suivant :\n",
      "#balancetonporc  #balancetonporc qu'elle ambiance quand les hommes ne feront que rêver au bon vieux temps...\n",
      "2\n",
      "Label pour le tweet suivant :\n",
      "#balancetonporc s'habiller en jean basket ds ton village car du + jeune au +++ âgé tu es un morceau de viande!!! À vomir!\n",
      "3\n",
      "Label pour le tweet suivant :\n",
      "@TheDracerGx et même d’un buddy movie avec Samuel L. Jackson, sur fond de revendications féministes pour marquer un peu plus Hollywood dans l’ère #MeToo.\n",
      "2\n",
      "Label pour le tweet suivant :\n",
      "On ne voit plus jm maire #tpmp petit problème avec #balancetonporc?\n",
      "2\n",
      "Label pour le tweet suivant :\n",
      "Chrronique de @sophiedurocher qui pisse sur le cadavre encore chaud d’un père de 3 enfants.   Sophie veut surtout pas qu’on oublie #metoo dans le cas de Kobe mais elle est beaucoup plus silencieuse sur la cas de l’ami Rozon. Les vacances à Paris ça forge des liens solides. https://t.co/gTXYYtqhR1\n",
      "2\n",
      "Label pour le tweet suivant :\n",
      "#YoutubeusesDay ! Bravo mesdames !!! Svp (et je m'adresse aux femmes un minimum intelligentes). Vs véhiculez une influence sur les jeunes. Pourriez vs faire de la prévention contre la #pedocriminalite dans vos vidéos/reseaux ? @innocencedanger #iwas   https://t.co/1PkpS3jKLJ\n",
      "2\n"
     ]
    },
    {
     "name": "stdout",
     "output_type": "stream",
     "text": [
      "Label pour le tweet suivant :\n",
      "celles et ceux qui tweetent sur le #Iwas vous êtes tlmt fort sachez le, vous méritez d’être entendus\n",
      "2\n",
      "Label pour le tweet suivant :\n",
      "Excellente analyse sur le très entendu \"#MeToo c'est bien, mais...\" https://t.co/tQvyCQX4wu\n",
      "2\n",
      "Label pour le tweet suivant :\n",
      "Je rentre dans un magazin le gerant me suit \"pour me parler des produits \"et se met à me toucher les seins #balancetonporc\n",
      "3\n",
      "Label pour le tweet suivant :\n",
      "C'est une agression sexuelle embraser une pets contre son consentement espece de porc @PierreMenes !!! Ça toujours été une agression sexuelle complice infâme @canalplus 🤮🤮🤮🤮 #PierreMenesOut  #balancetonporc https://t.co/uALtjVQpoX :QT: Ah bon j'ai pas le droit de soulever des jupes et d'embrasser des femmes de forces ? Oh la la, le monde a changé ! Gros dégueulasse va 🤮 #TPMP #PierreMenesOut\n",
      "2\n",
      "Label pour le tweet suivant :\n",
      "Marche aussi pour les mecs qui râlent sur #balancetonporc https://t.co/8jj3aTp0mb\n",
      "2\n",
      "Label pour le tweet suivant :\n",
      "Un magnifique projet très bientôt thanks @ambreleguilly thanks @noemie.de.lattre hairstyle and makeup @nallahsangare #feminist #journeeinternationaledesdroitsdesfemmes #metoo #memepaspeur #resilience #sorority #model #ivorycoast #senegal #cotesdarmor #actress #writer #director https://t.co/LCm46glsJI\n",
      "2\n",
      "Label pour le tweet suivant :\n",
      "#joyeusespaques #premieravril #jeremstargates #balancetonporc  #sondage vous faites quoi en premiers quand vous avez un kider surprise(follow,je fais des sondages)\n",
      "0\n",
      "Label pour le tweet suivant :\n",
      "@arthurberdah @ccornevin @AlbertZennou Il faut le stopper lui surtout le caillou dans la chaussure de Macron. À chaque fois qu’il ouvrira la bouche on pensera à ses services rendus contre du sexe. #balancetonporc\n",
      "2\n",
      "Label pour le tweet suivant :\n",
      "Colo kayak, seule fille, une nuit tout le groupe avec les mono, mega groping sur moi dans mon duvet. J'ai jamais rien dit.  #balancetonporc\n",
      "3\n",
      "Label pour le tweet suivant :\n",
      "Bref, cette interview, nécessaire  à mon sens, a conforté mon avis sur cette affaire. Ça n'en fait évidemment pas un coupable, au mieux un mauvais communiquant en revanche. #PPDA #Quotidien @Qofficiel #MeToo\n",
      "2\n",
      "Label pour le tweet suivant :\n",
      "À un moment donné, les réalisateurs tv vont arrêter de faire des plans en contreplongée pour mater sous les jupes des filles ? 🤔 #TPMP #BalanceTonPorc\n",
      "2\n",
      "Label pour le tweet suivant :\n",
      "Certaines ne parlent pas de peur de « détruire la vie » bien en place de bon père de famille inséré de l’agresseur, cela peut peut être paraître étonnant mais c’est un sentiment courant, cela renvoie d’ailleurs aux propos très déplacés qui ont eu cours lors de l’épisode #metoo\n",
      "2\n",
      "Label pour le tweet suivant :\n",
      "@Space_Marcel @RHvitserk @crue_carmen @Le___Doc Ce qu'il faut que vous compreniez c'est le discours féministe. Vous ne reconnaissez pas le système patriarcal dans lequel on vit ni la perspective de genre et forcément, vous ne pouvez avoir aucune compréhension du mouvement #metoo autre que: elles veulent la guerre des sexes\n",
      "2\n",
      "Label pour le tweet suivant :\n",
      "Catherine Deneuve et Brigitte Bardot moquées dans une émission américaine pour leurs positions sur #BalanceTonPorc https://t.co/gBQHbErWkR\n",
      "1\n",
      "Label pour le tweet suivant :\n",
      "Corée du Sud: une irréductible de Samsung est la championne #MeToo https://t.co/JTEMJELsXg\n",
      "1\n",
      "Label pour le tweet suivant :\n",
      "#balancetonporc C'est pas gentil pour les cochons... 🐷🐖\n",
      "2\n",
      "Label pour le tweet suivant :\n",
      "#metoo oops #mytho...\"avant ça passait crème Cyril\" duxit Pierre Menés sur @Cyrilhanouna https://t.co/nx14Rz0ydT :QT: 🇫🇷 FLASH - Pierre #Ménès se défend ce soir dans #TPMP : « Il faut prendre les gens comme ils sont, j'ai été embauché parce que je suis un personnage ». « Si je ne peux plus chambrer une meuf parce que c'est une meuf, c'est insupportable », a-t-il ajouté. (interview) https://t.co/QLeIzByREW\n",
      "2\n",
      "Label pour le tweet suivant :\n",
      "@PCF Pourquoi le parquet / procureur n'a pas poursuivi le violeur ?  Les juges doivent répondre de leurs actes !   #responsabilité #pedocriminalité #metoo #balancetonporc #viols #Gailhaguet #justice\n",
      "2\n",
      "Label pour le tweet suivant :\n",
      "@f_letellier @jeanvaljean2018 @GwennB_ Certes, après, il y a des gens qui se consacrent à plus défendre, les femmes, ou les enfants ou, d autres, des associations qui se dévouent pour leur cause sans pour autant remettre en doute la parole des uns ou des autres comme ça a été le cas pour #MeToo\n",
      "2\n",
      "Label pour le tweet suivant :\n",
      "Le #Iwas il me brise le coeur, vous êtes tous/tes fort(e)s et extrêmement courageux(ses), je vous souhaite le meilleur 🥺❤️\n",
      "2\n",
      "Label pour le tweet suivant :\n",
      "Le poulet a merite les coups de poings qu'il a pris car desole mais on est pas la pour prendre des coups donc ce sera coup pour coup La police a baisser dans l'estime des francais. #libertepourdettinger #balancetonporc\n",
      "2\n",
      "Label pour le tweet suivant :\n",
      "Merci à @AbouDjaffar de RT #balancetonporc, ça m'évite de cliquer sur le hashtag et d'en découvrir encore plus… #nausée\n",
      "2\n",
      "Label pour le tweet suivant :\n",
      "@ta_malou @avec_marine Elle aime les enfants la preuve elle s en es occupé aux lycé de cette nouille de #macron brizitte devrais figuré dans #BalanceTonPorc\n",
      "2\n",
      "Label pour le tweet suivant :\n",
      "A song against Violence / Un titre qui vous prend aux tripes \"Violent &amp; Happy\" de La Nouvelle Eve sur #SoundCloud ? #np https://t.co/FZiTWLPrlZ #violence #violenceconjugale #violenceathome #stayhome #music #resteralamaison #covid #corona #covid19 #bjork #björk #metoo\n",
      "0\n",
      "Label pour le tweet suivant :\n",
      "Les témoignages du #MetooInceste sont juste glaçants. Les prédateurs sexuels ne sont jamais très loin .\n",
      "2\n",
      "Label pour le tweet suivant :\n",
      "Donc le collectif #MeToo démontre sa bêtise abyssale et son manque de discernement. 😉 #QuandOnEstConOnEstCon https://t.co/DUGBqqLgqa\n",
      "2\n",
      "Label pour le tweet suivant :\n",
      "@Lotisauteur @Mediapart Oui. J'ai été contacté pour @BalanceTonPost et @TPMP notament et à l'étranger pour parler de #MeToo. Quand je parlerai, je parlerai aussi de ça\n",
      "2\n",
      "Label pour le tweet suivant :\n",
      "Je viens de l'écouter. Encore une fois, excellente intervention de @Ovidieofficiel qui a raison sur la vraie pollution du débat (plus que nécessaire) ouvert par les #MeToo #Balancetonporc #TIMESUP .  Cette tribune du Monde ne fait que brouiller/salir toute vraie discussion. https://t.co/MVfkNqm3eB\n",
      "2\n",
      "Label pour le tweet suivant :\n",
      "Ce matin, on rigole bien sur FB. Et tout ça avant mon 2e café #metoo #enitalien https://t.co/w6oA8YIHDo\n",
      "0\n",
      "Label pour le tweet suivant :\n",
      "Vatican. La dernière bataille de Benoît XVI - Courrier International Blogs https://t.co/ILVd5Ry3XU #metoo https://t.co/5SoPW4oqaG\n",
      "1\n",
      "Label pour le tweet suivant :\n",
      "#metoo #metooinceste  \"prophet\":  4min24sec, pendant quelques secondes, il est comme De Niro parfois:   COMPLIQUE: je vous ecoute: je vous donne le pouvoir d'etre celui qui DOIT vous ecouter  A 16 ans, mes amis disait que j'etais comme lui dans \"Voyage au bout de l'enfer\",PARFOIS https://t.co/p42cEijVul\n",
      "0\n",
      "Label pour le tweet suivant :\n",
      "Si il est prouvé que Sandra Muller  @LettreAudio  A DE GROS SEINS, il demeure incompréhensible qu'Eric Brion ai eu envie de se taper cette grosse truie #balancetonporc #journeemondialedesanimaux\n",
      "é\n",
      "Label pour le tweet suivant :\n",
      "“En allant vers l'hémicycle,@jeanlassalle m'a mis une main aux fesses.“Julia Castanier se confie. #balancetonporc https://t.co/2ybbTRj5sq\n",
      "1\n",
      "Label pour le tweet suivant :\n",
      "@WiretteNicorett @fabfluckiger Quand tu dis que ça se travaille, à quel degré il est nécessaire de commencer un traitement ? Et avec qui ?  #MeToo\n",
      "2\n",
      "Label pour le tweet suivant :\n",
      "Quand on te demande ton 06 dans la rue, que tu déclines ou ignores pour finalement te faire insulter de pute... 😩 #balancetonporc\n",
      "3\n",
      "Label pour le tweet suivant :\n",
      "À 21h, le #doc « Beauvoir, l’aventure d’être soi »  👩‍🏫 À l’heure des débats sur la domination masculine, la charge mentale, #MeToo, quelle est la modernité de Simone de Beauvoir ?  👉 Avec Leïla Slimani, Elisabeth Badinter et @titiou Lecoq  Réal Fabrice Gardel et @MathieuWeschler https://t.co/laqKrJzFBi\n",
      "2\n",
      "Label pour le tweet suivant :\n",
      "Nouvelle plainte pour #viol contre #Tariqramadan #Ramadan #balancetonporc https://t.co/GMJT3S1oBM\n",
      "2\n",
      "Label pour le tweet suivant :\n",
      "Donc chacun ne voit pas la même chose concernant 1er moitié du James Bond et deuxième moitié du film loque humaine merci #metoo https://t.co/3PLromOFdX\n",
      "2\n"
     ]
    },
    {
     "name": "stdout",
     "output_type": "stream",
     "text": [
      "Label pour le tweet suivant :\n",
      "@Bloom12005028 Formidable merci. Oui il faut impérativement tout faire pour réformer la législation sur le #viol au #Japon qui déjà n'avait pas été modifiée, il y a peu, depuis 110 ans... #Scandale #MeToo\n",
      "2\n",
      "Label pour le tweet suivant :\n",
      "Le cas Aziz Ansari questionne intelligemment le mouvement #MeToo https://t.co/XWWojlDtJ2 https://t.co/hpL0NMZqwd\n",
      "1\n",
      "Label pour le tweet suivant :\n",
      "@CNEWS @angele_vl Une vraie rebelle cette meuf ! 😆 Chanson sur #balancetonporc pr surfer sur la vague, chanson sur le réchauffement en pleine canicule wow. J'annonce un prochain titre sur la pêche au homard et sur les vignettes Crit'Air mdrrr #risquezéro\n",
      "2\n",
      "Label pour le tweet suivant :\n",
      "\"Preuve que les questions liées aux femmes ont dominé l’année, les mots-clefs les plus utilisés sur Twitter en 2018 place « school #MeToo », « feminist » et « molka »\".  Cet article date d'il y a un an, qu'en est-il pour 2019? 🤔 #digipolUCLouvain https://t.co/FEyFo3NoDW\n",
      "2\n",
      "Label pour le tweet suivant :\n",
      "#balancetonporc ce soir dans dernière minute\n",
      "2\n",
      "Label pour le tweet suivant :\n",
      "#Gilead ne lâche pas l’affaire contre @raoult_didier  Ça fait pls mois que c un feu roulant continu. Mais un truc comme ça garantit des dommages collatéraux ou alors il faudra un tri sélectif des dénonciations anonymes (DAs). Après les #metoo, Les DAs sont maintenant la norme. 🥶 https://t.co/U9MZGxZ56K :QT: Dites-moi que c'est un fake! https://t.co/EM3WkFHBqo Y aurait-il des fonctionnaires visant des promotions en essayant de se faire bien voir en incitant à la délation.Opposer médecins et pharmaciens, pas forcément une stratégie gagnante, et en tout cas pas au service des patients. https://t.co/ikc6v1MHSX\n",
      "0\n",
      "Label pour le tweet suivant :\n",
      "#Iwas 15, 16, 17, deux fois le même gros connard\n",
      "3\n",
      "Label pour le tweet suivant :\n",
      "2.2- #metoo #metooinceste   NOTES PÉDOPHILES  Il a fallu que je me débarrasse de le personne qui a peut-être le plus de nonSoi que je connaisse et qui me pose beaucoup trop de problème: j'ai démonté son ramassis de prétention et d'apparences ridicules.\n",
      "2\n",
      "Label pour le tweet suivant :\n",
      "Agression et harcèlement sexuels: le photographe star Patrick Demarchelier accusé, Anna Wintour mise en cause https://t.co/4Z3wnQTXWy #metoo #Demarchelier #Wintour https://t.co/M2Kbd93WtK\n",
      "1\n",
      "Label pour le tweet suivant :\n",
      "Un an après #MeToo, retrouvons-nous pour dire 🛑 STOP aux violences  sexistes et sexuelles. RDV samedi 29 septembre, à 14h30, place de la  République, pour un die-in géant.  📅 Événement Facebook : https://t.co/eVUsV1tczD 👉 Inscriptions : https://t.co/y0dJaQCalu https://t.co/gNnUP7YzXt\n",
      "2\n",
      "Label pour le tweet suivant :\n",
      "#balancetonporc, ça balance pas mal à Paris, ça balance pas mâle… https://t.co/EFyUSn9Pf8 https://t.co/LlpDsgYjbH\n",
      "1\n",
      "Label pour le tweet suivant :\n",
      "J'avais 2 ans. C'était le fils d'un ami de la famille : il en avait entre 11 et 13. Je l'ai recroisé il y a 3 ans : il a maintenant 40 ans et m'a regardé en mode \"tu te souviens\" avec son regard de pervers.  J'ai porté la culpabilité de son acte pendant 30 ans. #metooinceste\n",
      "3\n",
      "Label pour le tweet suivant :\n",
      "Avec mon bébé de 8 mois dans son landeau.Un type approche:c'est une fille ou un garçon? Moi:une fille.Lui:une future suceuse #balancetonporc\n",
      "3\n",
      "Label pour le tweet suivant :\n",
      "Le prêtre de Trois-Rivières a tenté de mettre fin à ses jours - RCI https://t.co/8Zsk7oQnz9 #metoo https://t.co/r0dkl00Pla\n",
      "1\n",
      "Label pour le tweet suivant :\n",
      "Des suffragettes à #MeToo : le violet, couleur iconique des mouvements féministes https://t.co/Jeu0Cb216y @letemps #soc\n",
      "1\n",
      "Label pour le tweet suivant :\n",
      "#Metoo Les féministes radicales de gauche de plus en plus critiquées par des...féministes....https://t.co/hQLAbzqHDg via @lp_lapresse\n",
      "1\n",
      "Label pour le tweet suivant :\n",
      "@YannisPSD @_Ecce__Homo_ @MarleneSchiappa \"#Sénégal🇸🇳 : #Macron🇫🇷 et #Rihanna saluent un nouvel élan pour l’éducation\"  #Schiappa @Elysee #BrigitteMacron #France #Paris #LREM #EnMarche #LaREM #BalanceTonPorc https://t.co/BPJXRAnkNa\n",
      "2\n",
      "Label pour le tweet suivant :\n",
      "Hanouna avec capu anav et lors de l’entretien d embauche d enora #balancetonporc@hanouna@c8\n",
      "2\n",
      "Label pour le tweet suivant :\n",
      "🔴Notre tribune dans @libe  ➡️\"Violences Sexuelles sur mineur.e.s : l’heure de la tolérance zéro a sonné\"🔔   #justicepourjulie #metooinceste  Avec @memoiretrauma @MiKohiyama @AndreaBescond @Abitbol_sarah @corinne_leriche @aludv P. É. Germain Thill  📌 https://t.co/tSxr6LHm28 https://t.co/qpTnlxJ2BS\n",
      "2\n",
      "Label pour le tweet suivant :\n",
      "https://t.co/Ezz6jd3MjO Oui je l'adore 💙🎵🎶 Je ne suis pas #MeToo https://t.co/QTzSFXWAFH\n",
      "1\n",
      "Label pour le tweet suivant :\n",
      "@MiKohiyama Pas que dans le sport, pas que dans le cinéma, les porcs ne sont pas tous sous les projecteurs mais ils sont partout dans nos vies de tous les jours, tout près et les victimes aussi...😢#metoo\n",
      "2\n",
      "Label pour le tweet suivant :\n",
      "Pourquoi certaines enquêtes sont-elles d'utilité publique ? Pour que des anonymes ne s'autorisent plus de traiter des victimes potentielles de \"femelles\" hystériques. Les enquêtes permettent d'ouvrir des enquêtes, qui démontrerons ou non la culpabilité ou l'innocence. #MeToo https://t.co/06RIyrKGBG\n",
      "2\n",
      "Label pour le tweet suivant :\n",
      "Bordel j'suis dans l'EHPAD de mon grand-père.. putain si les soignantes participaient au hashtag #balancetonporc mdddddr ça aurait saturer Twitter\n",
      "2\n",
      "Label pour le tweet suivant :\n",
      "#événement Réputation Time 2017 : du tweet #balancetonporc à la couverture du Elle, anatomie d’une levée de boucliers généralisée. C'est demain avec @annatwit #RepTime2017  En savoir plus &gt; https://t.co/Z0nGlUq457  Programme et inscription &gt; https://t.co/gP3b4GM9CP https://t.co/V6BsQrFcnR\n",
      "2\n"
     ]
    }
   ],
   "source": [
    "labeliser_tweet(df, nb_tweets=100, random_state = 25)"
   ]
  },
  {
   "cell_type": "code",
   "execution_count": 24,
   "metadata": {
    "id": "jAyzaJ5875dw",
    "tags": []
   },
   "outputs": [],
   "source": [
    "df_label = pd.read_csv('label.csv')"
   ]
  },
  {
   "cell_type": "code",
   "execution_count": 25,
   "metadata": {
    "tags": []
   },
   "outputs": [],
   "source": [
    "df_label = df_label.dropna()"
   ]
  },
  {
   "cell_type": "code",
   "execution_count": 37,
   "metadata": {},
   "outputs": [],
   "source": [
    "df_label = df_label.drop(1979)\n"
   ]
  },
  {
   "cell_type": "code",
   "execution_count": 38,
   "metadata": {},
   "outputs": [
    {
     "data": {
      "text/html": [
       "<div>\n",
       "<style scoped>\n",
       "    .dataframe tbody tr th:only-of-type {\n",
       "        vertical-align: middle;\n",
       "    }\n",
       "\n",
       "    .dataframe tbody tr th {\n",
       "        vertical-align: top;\n",
       "    }\n",
       "\n",
       "    .dataframe thead th {\n",
       "        text-align: right;\n",
       "    }\n",
       "</style>\n",
       "<table border=\"1\" class=\"dataframe\">\n",
       "  <thead>\n",
       "    <tr style=\"text-align: right;\">\n",
       "      <th></th>\n",
       "      <th>tweet_id</th>\n",
       "      <th>text</th>\n",
       "      <th>label</th>\n",
       "    </tr>\n",
       "  </thead>\n",
       "  <tbody>\n",
       "    <tr>\n",
       "      <th>0</th>\n",
       "      <td>1282587829357490179</td>\n",
       "      <td>Vous ne connaissez pas de collègues qui ont ét...</td>\n",
       "      <td>2</td>\n",
       "    </tr>\n",
       "    <tr>\n",
       "      <th>1</th>\n",
       "      <td>1374666678533951488</td>\n",
       "      <td>-Jsais profiter de ma notoriété pour agresser ...</td>\n",
       "      <td>2</td>\n",
       "    </tr>\n",
       "    <tr>\n",
       "      <th>2</th>\n",
       "      <td>1463447795877265410</td>\n",
       "      <td>#metoo #metooinceste  Excusez-moi, j'avais pré...</td>\n",
       "      <td>2</td>\n",
       "    </tr>\n",
       "    <tr>\n",
       "      <th>3</th>\n",
       "      <td>1305966401887371264</td>\n",
       "      <td>#MeToo Je zappe : les femmes défendues à la té...</td>\n",
       "      <td>2</td>\n",
       "    </tr>\n",
       "    <tr>\n",
       "      <th>4</th>\n",
       "      <td>1350452454782070786</td>\n",
       "      <td>#metooinceste #NousToutes @memoiretrauma  Je n...</td>\n",
       "      <td>3</td>\n",
       "    </tr>\n",
       "    <tr>\n",
       "      <th>...</th>\n",
       "      <td>...</td>\n",
       "      <td>...</td>\n",
       "      <td>...</td>\n",
       "    </tr>\n",
       "    <tr>\n",
       "      <th>2005</th>\n",
       "      <td>1583880474371366912</td>\n",
       "      <td>https://t.co/Ezz6jd3MjO Oui je l'adore 💙🎵🎶 Je ...</td>\n",
       "      <td>1</td>\n",
       "    </tr>\n",
       "    <tr>\n",
       "      <th>2006</th>\n",
       "      <td>1223244528469139456</td>\n",
       "      <td>@MiKohiyama Pas que dans le sport, pas que dan...</td>\n",
       "      <td>2</td>\n",
       "    </tr>\n",
       "    <tr>\n",
       "      <th>2007</th>\n",
       "      <td>1464357942224953347</td>\n",
       "      <td>Pourquoi certaines enquêtes sont-elles d'utili...</td>\n",
       "      <td>2</td>\n",
       "    </tr>\n",
       "    <tr>\n",
       "      <th>2008</th>\n",
       "      <td>1023147865772838912</td>\n",
       "      <td>Bordel j'suis dans l'EHPAD de mon grand-père.....</td>\n",
       "      <td>2</td>\n",
       "    </tr>\n",
       "    <tr>\n",
       "      <th>2009</th>\n",
       "      <td>942742552150757376</td>\n",
       "      <td>#événement Réputation Time 2017 : du tweet #ba...</td>\n",
       "      <td>2</td>\n",
       "    </tr>\n",
       "  </tbody>\n",
       "</table>\n",
       "<p>2006 rows × 3 columns</p>\n",
       "</div>"
      ],
      "text/plain": [
       "                 tweet_id                                               text  \\\n",
       "0     1282587829357490179  Vous ne connaissez pas de collègues qui ont ét...   \n",
       "1     1374666678533951488  -Jsais profiter de ma notoriété pour agresser ...   \n",
       "2     1463447795877265410  #metoo #metooinceste  Excusez-moi, j'avais pré...   \n",
       "3     1305966401887371264  #MeToo Je zappe : les femmes défendues à la té...   \n",
       "4     1350452454782070786  #metooinceste #NousToutes @memoiretrauma  Je n...   \n",
       "...                   ...                                                ...   \n",
       "2005  1583880474371366912  https://t.co/Ezz6jd3MjO Oui je l'adore 💙🎵🎶 Je ...   \n",
       "2006  1223244528469139456  @MiKohiyama Pas que dans le sport, pas que dan...   \n",
       "2007  1464357942224953347  Pourquoi certaines enquêtes sont-elles d'utili...   \n",
       "2008  1023147865772838912  Bordel j'suis dans l'EHPAD de mon grand-père.....   \n",
       "2009   942742552150757376  #événement Réputation Time 2017 : du tweet #ba...   \n",
       "\n",
       "     label  \n",
       "0        2  \n",
       "1        2  \n",
       "2        2  \n",
       "3        2  \n",
       "4        3  \n",
       "...    ...  \n",
       "2005     1  \n",
       "2006     2  \n",
       "2007     2  \n",
       "2008     2  \n",
       "2009     2  \n",
       "\n",
       "[2006 rows x 3 columns]"
      ]
     },
     "execution_count": 38,
     "metadata": {},
     "output_type": "execute_result"
    }
   ],
   "source": [
    "df_label"
   ]
  },
  {
   "cell_type": "code",
   "execution_count": 22,
   "metadata": {
    "colab": {
     "base_uri": "https://localhost:8080/",
     "height": 519
    },
    "id": "mRUK1kmZ7_z8",
    "outputId": "78d2f214-ea47-47f1-d388-9679b8d6d384",
    "tags": []
   },
   "outputs": [
    {
     "data": {
      "text/plain": [
       "2.0    1266\n",
       "1.0     394\n",
       "3.0     172\n",
       "0.0      75\n",
       "Name: label, dtype: int64"
      ]
     },
     "execution_count": 22,
     "metadata": {},
     "output_type": "execute_result"
    }
   ],
   "source": [
    "df_label.label.value_counts()"
   ]
  },
  {
   "cell_type": "code",
   "execution_count": 25,
   "metadata": {
    "id": "hnt-ro2_WpXz",
    "tags": []
   },
   "outputs": [],
   "source": [
    "# Defining constants\n",
    "epochs = 10\n",
    "MAX_LEN = 300\n",
    "batch_size = 64\n",
    "device = torch.device('cuda' if torch.cuda.is_available() else 'cpu')"
   ]
  },
  {
   "cell_type": "code",
   "execution_count": 6,
   "metadata": {
    "id": "-JvbX630WUHn",
    "tags": []
   },
   "outputs": [
    {
     "data": {
      "application/vnd.jupyter.widget-view+json": {
       "model_id": "c89b418bcc7a451bafbe2cd902834364",
       "version_major": 2,
       "version_minor": 0
      },
      "text/plain": [
       "Downloading (…)tencepiece.bpe.model:   0%|          | 0.00/811k [00:00<?, ?B/s]"
      ]
     },
     "metadata": {},
     "output_type": "display_data"
    },
    {
     "data": {
      "application/vnd.jupyter.widget-view+json": {
       "model_id": "e772c93523cb48b8a869f49574739852",
       "version_major": 2,
       "version_minor": 0
      },
      "text/plain": [
       "Downloading (…)lve/main/config.json:   0%|          | 0.00/508 [00:00<?, ?B/s]"
      ]
     },
     "metadata": {},
     "output_type": "display_data"
    }
   ],
   "source": [
    "tokenizer = CamembertTokenizer.from_pretrained('camembert-base')"
   ]
  },
  {
   "cell_type": "code",
   "execution_count": 7,
   "metadata": {
    "tags": []
   },
   "outputs": [
    {
     "data": {
      "application/vnd.jupyter.widget-view+json": {
       "model_id": "91f574914b8f4115a1a855f739e921d4",
       "version_major": 2,
       "version_minor": 0
      },
      "text/plain": [
       "Downloading pytorch_model.bin:   0%|          | 0.00/445M [00:00<?, ?B/s]"
      ]
     },
     "metadata": {},
     "output_type": "display_data"
    },
    {
     "name": "stderr",
     "output_type": "stream",
     "text": [
      "Some weights of the model checkpoint at camembert-base were not used when initializing CamembertForSequenceClassification: ['lm_head.bias', 'roberta.pooler.dense.bias', 'lm_head.layer_norm.bias', 'lm_head.layer_norm.weight', 'lm_head.dense.weight', 'lm_head.decoder.weight', 'roberta.pooler.dense.weight', 'lm_head.dense.bias']\n",
      "- This IS expected if you are initializing CamembertForSequenceClassification from the checkpoint of a model trained on another task or with another architecture (e.g. initializing a BertForSequenceClassification model from a BertForPreTraining model).\n",
      "- This IS NOT expected if you are initializing CamembertForSequenceClassification from the checkpoint of a model that you expect to be exactly identical (initializing a BertForSequenceClassification model from a BertForSequenceClassification model).\n",
      "Some weights of CamembertForSequenceClassification were not initialized from the model checkpoint at camembert-base and are newly initialized: ['classifier.out_proj.weight', 'classifier.out_proj.bias', 'classifier.dense.bias', 'classifier.dense.weight']\n",
      "You should probably TRAIN this model on a down-stream task to be able to use it for predictions and inference.\n"
     ]
    },
    {
     "data": {
      "text/plain": [
       "CamembertForSequenceClassification(\n",
       "  (roberta): CamembertModel(\n",
       "    (embeddings): CamembertEmbeddings(\n",
       "      (word_embeddings): Embedding(32005, 768, padding_idx=1)\n",
       "      (position_embeddings): Embedding(514, 768, padding_idx=1)\n",
       "      (token_type_embeddings): Embedding(1, 768)\n",
       "      (LayerNorm): LayerNorm((768,), eps=1e-05, elementwise_affine=True)\n",
       "      (dropout): Dropout(p=0.1, inplace=False)\n",
       "    )\n",
       "    (encoder): CamembertEncoder(\n",
       "      (layer): ModuleList(\n",
       "        (0-11): 12 x CamembertLayer(\n",
       "          (attention): CamembertAttention(\n",
       "            (self): CamembertSelfAttention(\n",
       "              (query): Linear(in_features=768, out_features=768, bias=True)\n",
       "              (key): Linear(in_features=768, out_features=768, bias=True)\n",
       "              (value): Linear(in_features=768, out_features=768, bias=True)\n",
       "              (dropout): Dropout(p=0.1, inplace=False)\n",
       "            )\n",
       "            (output): CamembertSelfOutput(\n",
       "              (dense): Linear(in_features=768, out_features=768, bias=True)\n",
       "              (LayerNorm): LayerNorm((768,), eps=1e-05, elementwise_affine=True)\n",
       "              (dropout): Dropout(p=0.1, inplace=False)\n",
       "            )\n",
       "          )\n",
       "          (intermediate): CamembertIntermediate(\n",
       "            (dense): Linear(in_features=768, out_features=3072, bias=True)\n",
       "            (intermediate_act_fn): GELUActivation()\n",
       "          )\n",
       "          (output): CamembertOutput(\n",
       "            (dense): Linear(in_features=3072, out_features=768, bias=True)\n",
       "            (LayerNorm): LayerNorm((768,), eps=1e-05, elementwise_affine=True)\n",
       "            (dropout): Dropout(p=0.1, inplace=False)\n",
       "          )\n",
       "        )\n",
       "      )\n",
       "    )\n",
       "  )\n",
       "  (classifier): CamembertClassificationHead(\n",
       "    (dense): Linear(in_features=768, out_features=768, bias=True)\n",
       "    (dropout): Dropout(p=0.1, inplace=False)\n",
       "    (out_proj): Linear(in_features=768, out_features=4, bias=True)\n",
       "  )\n",
       ")"
      ]
     },
     "execution_count": 7,
     "metadata": {},
     "output_type": "execute_result"
    }
   ],
   "source": [
    "model = CamembertForSequenceClassification.from_pretrained(\"camembert-base\", num_labels=4)\n",
    "model.to(device)"
   ]
  },
  {
   "cell_type": "code",
   "execution_count": 8,
   "metadata": {
    "tags": []
   },
   "outputs": [
    {
     "name": "stderr",
     "output_type": "stream",
     "text": [
      "/opt/mamba/lib/python3.10/site-packages/transformers/optimization.py:391: FutureWarning: This implementation of AdamW is deprecated and will be removed in a future version. Use the PyTorch implementation torch.optim.AdamW instead, or set `no_deprecation_warning=True` to disable this warning\n",
      "  warnings.warn(\n"
     ]
    }
   ],
   "source": [
    "optimizer = AdamW(model.parameters(), lr=2e-5, eps=10e-8)"
   ]
  },
  {
   "cell_type": "code",
   "execution_count": 9,
   "metadata": {
    "colab": {
     "base_uri": "https://localhost:8080/",
     "height": 502
    },
    "id": "cQS2l-oQZwmL",
    "outputId": "ab347867-6f13-41ee-9457-1ea3ef877c2f",
    "tags": []
   },
   "outputs": [
    {
     "name": "stderr",
     "output_type": "stream",
     "text": [
      "Truncation was not explicitly activated but `max_length` is provided a specific value, please use `truncation=True` to explicitly truncate examples to max length. Defaulting to 'longest_first' truncation strategy. If you encode pairs of sequences (GLUE-style) with the tokenizer you can select this strategy more precisely by providing a specific strategy to `truncation`.\n"
     ]
    }
   ],
   "source": [
    "text = df_label['text'].to_list()\n",
    "labels = df_label['label'].to_list()\n",
    "\n",
    "#user tokenizer to convert sentences into tokenizer\n",
    "input_ids  = [tokenizer.encode(sent,add_special_tokens=True,max_length=MAX_LEN) for sent in text]\n",
    "\n",
    "# Pad our input tokens\n",
    "input_ids = pad_sequences(input_ids, maxlen=MAX_LEN, dtype=\"long\", truncating=\"post\", padding=\"post\")\n",
    "\n",
    "# Create attention masks\n",
    "attention_masks = []\n",
    "# Create a mask of 1s for each token followed by 0s for padding\n",
    "for seq in input_ids:\n",
    "    seq_mask = [float(i>0) for i in seq]  \n",
    "    attention_masks.append(seq_mask)"
   ]
  },
  {
   "cell_type": "code",
   "execution_count": 77,
   "metadata": {
    "colab": {
     "base_uri": "https://localhost:8080/",
     "height": 253
    },
    "id": "Ge4RCSKcZztV",
    "outputId": "47bd58fd-bb54-45c5-b011-e4af769fcee9",
    "tags": []
   },
   "outputs": [],
   "source": [
    "train_inputs, validation_inputs, train_labels, validation_labels, train_masks, validation_masks = train_test_split(input_ids, labels, attention_masks,\n",
    "                                                            random_state=42, test_size=0.4, stratify = labels)\n",
    "\n",
    "# Convert all of our data into torch tensors, the required datatype for our model\n",
    "train_inputs = torch.tensor(train_inputs)\n",
    "validation_inputs = torch.tensor(validation_inputs)\n",
    "train_labels = torch.tensor(train_labels)\n",
    "validation_labels = torch.tensor(validation_labels)\n",
    "train_masks = torch.tensor(train_masks)\n",
    "validation_masks = torch.tensor(validation_masks)\n",
    "\n",
    "train_data = TensorDataset(train_inputs, train_masks, train_labels)\n",
    "train_sampler = RandomSampler(train_data)\n",
    "train_dataloader = DataLoader(train_data, sampler=train_sampler, batch_size=batch_size)\n",
    "\n",
    "validation_data = TensorDataset(validation_inputs, validation_masks, validation_labels)\n",
    "validation_sampler = SequentialSampler(validation_data)\n",
    "validation_dataloader = DataLoader(validation_data, sampler=validation_sampler, batch_size=batch_size)"
   ]
  },
  {
   "cell_type": "code",
   "execution_count": 11,
   "metadata": {
    "tags": []
   },
   "outputs": [],
   "source": [
    "def flat_accuracy(preds, labels):\n",
    "    pred_flat = np.argmax(preds, axis=1).flatten()\n",
    "    labels_flat = labels.flatten()\n",
    "    return np.sum(pred_flat == labels_flat) / len(labels_flat)"
   ]
  },
  {
   "cell_type": "code",
   "execution_count": 12,
   "metadata": {
    "colab": {
     "base_uri": "https://localhost:8080/",
     "height": 253
    },
    "id": "pbFcqTLYWnIZ",
    "outputId": "ca5a0099-dba7-4b4e-ad98-14b46dbb3819",
    "tags": []
   },
   "outputs": [
    {
     "name": "stderr",
     "output_type": "stream",
     "text": [
      "Epoch:   0%|          | 0/10 [00:00<?, ?it/s]"
     ]
    },
    {
     "name": "stdout",
     "output_type": "stream",
     "text": [
      "Train loss: 1.2618875404198964\n"
     ]
    },
    {
     "name": "stderr",
     "output_type": "stream",
     "text": [
      "Epoch:  10%|█         | 1/10 [11:58<1:47:46, 718.47s/it]"
     ]
    },
    {
     "name": "stdout",
     "output_type": "stream",
     "text": [
      "Validation Accuracy: 0.683666087962963\n",
      "Train loss: 1.0668712556362152\n"
     ]
    },
    {
     "name": "stderr",
     "output_type": "stream",
     "text": [
      "Epoch:  20%|██        | 2/10 [26:31<1:47:53, 809.18s/it]"
     ]
    },
    {
     "name": "stdout",
     "output_type": "stream",
     "text": [
      "Validation Accuracy: 0.683666087962963\n",
      "Train loss: 0.957703024148941\n"
     ]
    },
    {
     "name": "stderr",
     "output_type": "stream",
     "text": [
      "Epoch:  30%|███       | 3/10 [41:12<1:38:15, 842.14s/it]"
     ]
    },
    {
     "name": "stdout",
     "output_type": "stream",
     "text": [
      "Validation Accuracy: 0.683666087962963\n",
      "Train loss: 0.8441829631725947\n"
     ]
    },
    {
     "name": "stderr",
     "output_type": "stream",
     "text": [
      "Epoch:  40%|████      | 4/10 [56:13<1:26:33, 865.51s/it]"
     ]
    },
    {
     "name": "stdout",
     "output_type": "stream",
     "text": [
      "Validation Accuracy: 0.7936197916666666\n",
      "Train loss: 0.7229040463765463\n"
     ]
    },
    {
     "name": "stderr",
     "output_type": "stream",
     "text": [
      "Epoch:  50%|█████     | 5/10 [1:11:12<1:13:06, 877.36s/it]"
     ]
    },
    {
     "name": "stdout",
     "output_type": "stream",
     "text": [
      "Validation Accuracy: 0.7316261574074074\n",
      "Train loss: 0.6163275490204493\n"
     ]
    },
    {
     "name": "stderr",
     "output_type": "stream",
     "text": [
      "Epoch:  60%|██████    | 6/10 [1:25:21<57:51, 867.90s/it]  "
     ]
    },
    {
     "name": "stdout",
     "output_type": "stream",
     "text": [
      "Validation Accuracy: 0.7779947916666666\n",
      "Train loss: 0.5189388146003088\n"
     ]
    },
    {
     "name": "stderr",
     "output_type": "stream",
     "text": [
      "Epoch:  70%|███████   | 7/10 [1:38:30<42:06, 842.19s/it]"
     ]
    },
    {
     "name": "stdout",
     "output_type": "stream",
     "text": [
      "Validation Accuracy: 0.8236400462962963\n",
      "Train loss: 0.4161665042241414\n"
     ]
    },
    {
     "name": "stderr",
     "output_type": "stream",
     "text": [
      "Epoch:  80%|████████  | 8/10 [1:46:59<24:32, 736.00s/it]"
     ]
    },
    {
     "name": "stdout",
     "output_type": "stream",
     "text": [
      "Validation Accuracy: 0.8298611111111112\n",
      "Train loss: 0.3496982256571452\n"
     ]
    },
    {
     "name": "stderr",
     "output_type": "stream",
     "text": [
      "Epoch:  90%|█████████ | 9/10 [1:54:01<10:37, 637.84s/it]"
     ]
    },
    {
     "name": "stdout",
     "output_type": "stream",
     "text": [
      "Validation Accuracy: 0.8383969907407407\n",
      "Train loss: 0.2971478613714377\n"
     ]
    },
    {
     "name": "stderr",
     "output_type": "stream",
     "text": [
      "Epoch: 100%|██████████| 10/10 [2:00:39<00:00, 723.93s/it]"
     ]
    },
    {
     "name": "stdout",
     "output_type": "stream",
     "text": [
      "Validation Accuracy: 0.8423032407407407\n"
     ]
    },
    {
     "name": "stderr",
     "output_type": "stream",
     "text": [
      "\n"
     ]
    }
   ],
   "source": [
    "train_loss_set=[]\n",
    "for _ in trange(epochs, desc=\"Epoch\"):  \n",
    "    tr_loss = 0\n",
    "    nb_tr_examples, nb_tr_steps = 0, 0\n",
    "  \n",
    "    # Train the model\n",
    "    model.train()\n",
    "    for step, batch in enumerate(train_dataloader):\n",
    "        batch = tuple(t.to(device) for t in batch)\n",
    "        b_input_ids, b_input_mask, b_labels = batch\n",
    "        optimizer.zero_grad()\n",
    "        outputs = model(b_input_ids,token_type_ids=None, attention_mask=b_input_mask, labels=b_labels.long())\n",
    "        loss = outputs[0]\n",
    "        train_loss_set.append(loss.item())    \n",
    "        loss.backward()\n",
    "        optimizer.step()\n",
    "        tr_loss += loss.item()\n",
    "        nb_tr_examples += b_input_ids.size(0)\n",
    "        nb_tr_steps += 1\n",
    "\n",
    "    print(\"Train loss: {}\".format(tr_loss/nb_tr_steps))\n",
    "    \n",
    "    \n",
    "    eval_loss, eval_accuracy = 0, 0\n",
    "    nb_eval_steps, nb_eval_examples = 0, 0\n",
    "    model.eval()\n",
    "    # Evaluate data for one epoch\n",
    "    for batch in validation_dataloader:\n",
    "        \n",
    "        batch = tuple(t.to(device) for t in batch)\n",
    "        b_input_ids, b_input_mask, b_labels = batch\n",
    "        with torch.no_grad():\n",
    "            outputs =  model(b_input_ids, token_type_ids=None, attention_mask=b_input_mask, labels=b_labels.long())\n",
    "            loss, logits = outputs[:2]\n",
    "    \n",
    "        logits = logits.detach().cpu().numpy()\n",
    "        label_ids = b_labels.to('cpu').numpy()\n",
    "\n",
    "        tmp_eval_accuracy = flat_accuracy(logits, label_ids)\n",
    "    \n",
    "        eval_accuracy += tmp_eval_accuracy\n",
    "        nb_eval_steps += 1\n",
    "\n",
    "    print(\"Validation Accuracy: {}\".format(eval_accuracy/nb_eval_steps))"
   ]
  },
  {
   "cell_type": "code",
   "execution_count": 55,
   "metadata": {
    "tags": []
   },
   "outputs": [],
   "source": [
    "def predict(model, dataloader):\n",
    "    # mettre le modèle en mode d'évaluation\n",
    "    model.eval()\n",
    "    \n",
    "    # stocker les prédictions de tous les batchs dans une liste\n",
    "    predictions = []\n",
    "    \n",
    "    # boucle sur les batches dans le dataloader de test\n",
    "    for batch in dataloader:\n",
    "        \n",
    "        # déplacer les données sur le même dispositif que le modèle\n",
    "        batch = tuple(t.to(device) for t in batch)\n",
    "        b_input_ids, b_input_mask, b_labels = batch\n",
    "        \n",
    "        # désactiver le calcul des gradients pour économiser de la mémoire et accélérer les calculs\n",
    "        with torch.no_grad():\n",
    "            # faire passer les données à travers le modèle pour obtenir les logits\n",
    "            outputs =  model(b_input_ids, token_type_ids=None, attention_mask=b_input_mask)\n",
    "            logits = outputs[0]\n",
    "    \n",
    "        # appliquer la fonction softmax pour obtenir les probabilités pour chaque classe\n",
    "        probs = F.softmax(logits, dim=-1)\n",
    "        \n",
    "        # convertir les probabilités en prédictions en prenant l'indice de la classe avec la probabilité la plus élevée\n",
    "        batch_preds = torch.argmax(probs, dim=1)\n",
    "        \n",
    "        # ajouter les prédictions pour ce batch à la liste de prédictions globale\n",
    "        predictions.extend(batch_preds.cpu().numpy().tolist())\n",
    "    \n",
    "    # retourner la liste de prédictions globale\n",
    "    return predictions\n"
   ]
  },
  {
   "cell_type": "code",
   "execution_count": 58,
   "metadata": {
    "tags": []
   },
   "outputs": [
    {
     "ename": "KeyboardInterrupt",
     "evalue": "",
     "output_type": "error",
     "traceback": [
      "\u001b[0;31m---------------------------------------------------------------------------\u001b[0m",
      "\u001b[0;31mKeyboardInterrupt\u001b[0m                         Traceback (most recent call last)",
      "Cell \u001b[0;32mIn[58], line 1\u001b[0m\n\u001b[0;32m----> 1\u001b[0m predictions_val \u001b[38;5;241m=\u001b[39m \u001b[43mpredict\u001b[49m\u001b[43m(\u001b[49m\u001b[43mmodel\u001b[49m\u001b[43m,\u001b[49m\u001b[43m \u001b[49m\u001b[43mvalidation_dataloader\u001b[49m\u001b[43m)\u001b[49m\n",
      "Cell \u001b[0;32mIn[55], line 18\u001b[0m, in \u001b[0;36mpredict\u001b[0;34m(model, dataloader)\u001b[0m\n\u001b[1;32m     15\u001b[0m \u001b[38;5;66;03m# désactiver le calcul des gradients pour économiser de la mémoire et accélérer les calculs\u001b[39;00m\n\u001b[1;32m     16\u001b[0m \u001b[38;5;28;01mwith\u001b[39;00m torch\u001b[38;5;241m.\u001b[39mno_grad():\n\u001b[1;32m     17\u001b[0m     \u001b[38;5;66;03m# faire passer les données à travers le modèle pour obtenir les logits\u001b[39;00m\n\u001b[0;32m---> 18\u001b[0m     outputs \u001b[38;5;241m=\u001b[39m  \u001b[43mmodel\u001b[49m\u001b[43m(\u001b[49m\u001b[43mb_input_ids\u001b[49m\u001b[43m,\u001b[49m\u001b[43m \u001b[49m\u001b[43mtoken_type_ids\u001b[49m\u001b[38;5;241;43m=\u001b[39;49m\u001b[38;5;28;43;01mNone\u001b[39;49;00m\u001b[43m,\u001b[49m\u001b[43m \u001b[49m\u001b[43mattention_mask\u001b[49m\u001b[38;5;241;43m=\u001b[39;49m\u001b[43mb_input_mask\u001b[49m\u001b[43m)\u001b[49m\n\u001b[1;32m     19\u001b[0m     logits \u001b[38;5;241m=\u001b[39m outputs[\u001b[38;5;241m0\u001b[39m]\n\u001b[1;32m     21\u001b[0m \u001b[38;5;66;03m# appliquer la fonction softmax pour obtenir les probabilités pour chaque classe\u001b[39;00m\n",
      "File \u001b[0;32m/opt/mamba/lib/python3.10/site-packages/torch/nn/modules/module.py:1501\u001b[0m, in \u001b[0;36mModule._call_impl\u001b[0;34m(self, *args, **kwargs)\u001b[0m\n\u001b[1;32m   1496\u001b[0m \u001b[38;5;66;03m# If we don't have any hooks, we want to skip the rest of the logic in\u001b[39;00m\n\u001b[1;32m   1497\u001b[0m \u001b[38;5;66;03m# this function, and just call forward.\u001b[39;00m\n\u001b[1;32m   1498\u001b[0m \u001b[38;5;28;01mif\u001b[39;00m \u001b[38;5;129;01mnot\u001b[39;00m (\u001b[38;5;28mself\u001b[39m\u001b[38;5;241m.\u001b[39m_backward_hooks \u001b[38;5;129;01mor\u001b[39;00m \u001b[38;5;28mself\u001b[39m\u001b[38;5;241m.\u001b[39m_backward_pre_hooks \u001b[38;5;129;01mor\u001b[39;00m \u001b[38;5;28mself\u001b[39m\u001b[38;5;241m.\u001b[39m_forward_hooks \u001b[38;5;129;01mor\u001b[39;00m \u001b[38;5;28mself\u001b[39m\u001b[38;5;241m.\u001b[39m_forward_pre_hooks\n\u001b[1;32m   1499\u001b[0m         \u001b[38;5;129;01mor\u001b[39;00m _global_backward_pre_hooks \u001b[38;5;129;01mor\u001b[39;00m _global_backward_hooks\n\u001b[1;32m   1500\u001b[0m         \u001b[38;5;129;01mor\u001b[39;00m _global_forward_hooks \u001b[38;5;129;01mor\u001b[39;00m _global_forward_pre_hooks):\n\u001b[0;32m-> 1501\u001b[0m     \u001b[38;5;28;01mreturn\u001b[39;00m \u001b[43mforward_call\u001b[49m\u001b[43m(\u001b[49m\u001b[38;5;241;43m*\u001b[39;49m\u001b[43margs\u001b[49m\u001b[43m,\u001b[49m\u001b[43m \u001b[49m\u001b[38;5;241;43m*\u001b[39;49m\u001b[38;5;241;43m*\u001b[39;49m\u001b[43mkwargs\u001b[49m\u001b[43m)\u001b[49m\n\u001b[1;32m   1502\u001b[0m \u001b[38;5;66;03m# Do not call functions when jit is used\u001b[39;00m\n\u001b[1;32m   1503\u001b[0m full_backward_hooks, non_full_backward_hooks \u001b[38;5;241m=\u001b[39m [], []\n",
      "File \u001b[0;32m/opt/mamba/lib/python3.10/site-packages/transformers/models/camembert/modeling_camembert.py:1084\u001b[0m, in \u001b[0;36mCamembertForSequenceClassification.forward\u001b[0;34m(self, input_ids, attention_mask, token_type_ids, position_ids, head_mask, inputs_embeds, labels, output_attentions, output_hidden_states, return_dict)\u001b[0m\n\u001b[1;32m   1076\u001b[0m \u001b[38;5;250m\u001b[39m\u001b[38;5;124mr\u001b[39m\u001b[38;5;124;03m\"\"\"\u001b[39;00m\n\u001b[1;32m   1077\u001b[0m \u001b[38;5;124;03mlabels (`torch.LongTensor` of shape `(batch_size,)`, *optional*):\u001b[39;00m\n\u001b[1;32m   1078\u001b[0m \u001b[38;5;124;03m    Labels for computing the sequence classification/regression loss. Indices should be in `[0, ...,\u001b[39;00m\n\u001b[1;32m   1079\u001b[0m \u001b[38;5;124;03m    config.num_labels - 1]`. If `config.num_labels == 1` a regression loss is computed (Mean-Square loss), If\u001b[39;00m\n\u001b[1;32m   1080\u001b[0m \u001b[38;5;124;03m    `config.num_labels > 1` a classification loss is computed (Cross-Entropy).\u001b[39;00m\n\u001b[1;32m   1081\u001b[0m \u001b[38;5;124;03m\"\"\"\u001b[39;00m\n\u001b[1;32m   1082\u001b[0m return_dict \u001b[38;5;241m=\u001b[39m return_dict \u001b[38;5;28;01mif\u001b[39;00m return_dict \u001b[38;5;129;01mis\u001b[39;00m \u001b[38;5;129;01mnot\u001b[39;00m \u001b[38;5;28;01mNone\u001b[39;00m \u001b[38;5;28;01melse\u001b[39;00m \u001b[38;5;28mself\u001b[39m\u001b[38;5;241m.\u001b[39mconfig\u001b[38;5;241m.\u001b[39muse_return_dict\n\u001b[0;32m-> 1084\u001b[0m outputs \u001b[38;5;241m=\u001b[39m \u001b[38;5;28;43mself\u001b[39;49m\u001b[38;5;241;43m.\u001b[39;49m\u001b[43mroberta\u001b[49m\u001b[43m(\u001b[49m\n\u001b[1;32m   1085\u001b[0m \u001b[43m    \u001b[49m\u001b[43minput_ids\u001b[49m\u001b[43m,\u001b[49m\n\u001b[1;32m   1086\u001b[0m \u001b[43m    \u001b[49m\u001b[43mattention_mask\u001b[49m\u001b[38;5;241;43m=\u001b[39;49m\u001b[43mattention_mask\u001b[49m\u001b[43m,\u001b[49m\n\u001b[1;32m   1087\u001b[0m \u001b[43m    \u001b[49m\u001b[43mtoken_type_ids\u001b[49m\u001b[38;5;241;43m=\u001b[39;49m\u001b[43mtoken_type_ids\u001b[49m\u001b[43m,\u001b[49m\n\u001b[1;32m   1088\u001b[0m \u001b[43m    \u001b[49m\u001b[43mposition_ids\u001b[49m\u001b[38;5;241;43m=\u001b[39;49m\u001b[43mposition_ids\u001b[49m\u001b[43m,\u001b[49m\n\u001b[1;32m   1089\u001b[0m \u001b[43m    \u001b[49m\u001b[43mhead_mask\u001b[49m\u001b[38;5;241;43m=\u001b[39;49m\u001b[43mhead_mask\u001b[49m\u001b[43m,\u001b[49m\n\u001b[1;32m   1090\u001b[0m \u001b[43m    \u001b[49m\u001b[43minputs_embeds\u001b[49m\u001b[38;5;241;43m=\u001b[39;49m\u001b[43minputs_embeds\u001b[49m\u001b[43m,\u001b[49m\n\u001b[1;32m   1091\u001b[0m \u001b[43m    \u001b[49m\u001b[43moutput_attentions\u001b[49m\u001b[38;5;241;43m=\u001b[39;49m\u001b[43moutput_attentions\u001b[49m\u001b[43m,\u001b[49m\n\u001b[1;32m   1092\u001b[0m \u001b[43m    \u001b[49m\u001b[43moutput_hidden_states\u001b[49m\u001b[38;5;241;43m=\u001b[39;49m\u001b[43moutput_hidden_states\u001b[49m\u001b[43m,\u001b[49m\n\u001b[1;32m   1093\u001b[0m \u001b[43m    \u001b[49m\u001b[43mreturn_dict\u001b[49m\u001b[38;5;241;43m=\u001b[39;49m\u001b[43mreturn_dict\u001b[49m\u001b[43m,\u001b[49m\n\u001b[1;32m   1094\u001b[0m \u001b[43m\u001b[49m\u001b[43m)\u001b[49m\n\u001b[1;32m   1095\u001b[0m sequence_output \u001b[38;5;241m=\u001b[39m outputs[\u001b[38;5;241m0\u001b[39m]\n\u001b[1;32m   1096\u001b[0m logits \u001b[38;5;241m=\u001b[39m \u001b[38;5;28mself\u001b[39m\u001b[38;5;241m.\u001b[39mclassifier(sequence_output)\n",
      "File \u001b[0;32m/opt/mamba/lib/python3.10/site-packages/torch/nn/modules/module.py:1501\u001b[0m, in \u001b[0;36mModule._call_impl\u001b[0;34m(self, *args, **kwargs)\u001b[0m\n\u001b[1;32m   1496\u001b[0m \u001b[38;5;66;03m# If we don't have any hooks, we want to skip the rest of the logic in\u001b[39;00m\n\u001b[1;32m   1497\u001b[0m \u001b[38;5;66;03m# this function, and just call forward.\u001b[39;00m\n\u001b[1;32m   1498\u001b[0m \u001b[38;5;28;01mif\u001b[39;00m \u001b[38;5;129;01mnot\u001b[39;00m (\u001b[38;5;28mself\u001b[39m\u001b[38;5;241m.\u001b[39m_backward_hooks \u001b[38;5;129;01mor\u001b[39;00m \u001b[38;5;28mself\u001b[39m\u001b[38;5;241m.\u001b[39m_backward_pre_hooks \u001b[38;5;129;01mor\u001b[39;00m \u001b[38;5;28mself\u001b[39m\u001b[38;5;241m.\u001b[39m_forward_hooks \u001b[38;5;129;01mor\u001b[39;00m \u001b[38;5;28mself\u001b[39m\u001b[38;5;241m.\u001b[39m_forward_pre_hooks\n\u001b[1;32m   1499\u001b[0m         \u001b[38;5;129;01mor\u001b[39;00m _global_backward_pre_hooks \u001b[38;5;129;01mor\u001b[39;00m _global_backward_hooks\n\u001b[1;32m   1500\u001b[0m         \u001b[38;5;129;01mor\u001b[39;00m _global_forward_hooks \u001b[38;5;129;01mor\u001b[39;00m _global_forward_pre_hooks):\n\u001b[0;32m-> 1501\u001b[0m     \u001b[38;5;28;01mreturn\u001b[39;00m \u001b[43mforward_call\u001b[49m\u001b[43m(\u001b[49m\u001b[38;5;241;43m*\u001b[39;49m\u001b[43margs\u001b[49m\u001b[43m,\u001b[49m\u001b[43m \u001b[49m\u001b[38;5;241;43m*\u001b[39;49m\u001b[38;5;241;43m*\u001b[39;49m\u001b[43mkwargs\u001b[49m\u001b[43m)\u001b[49m\n\u001b[1;32m   1502\u001b[0m \u001b[38;5;66;03m# Do not call functions when jit is used\u001b[39;00m\n\u001b[1;32m   1503\u001b[0m full_backward_hooks, non_full_backward_hooks \u001b[38;5;241m=\u001b[39m [], []\n",
      "File \u001b[0;32m/opt/mamba/lib/python3.10/site-packages/transformers/models/camembert/modeling_camembert.py:904\u001b[0m, in \u001b[0;36mCamembertModel.forward\u001b[0;34m(self, input_ids, attention_mask, token_type_ids, position_ids, head_mask, inputs_embeds, encoder_hidden_states, encoder_attention_mask, past_key_values, use_cache, output_attentions, output_hidden_states, return_dict)\u001b[0m\n\u001b[1;32m    895\u001b[0m head_mask \u001b[38;5;241m=\u001b[39m \u001b[38;5;28mself\u001b[39m\u001b[38;5;241m.\u001b[39mget_head_mask(head_mask, \u001b[38;5;28mself\u001b[39m\u001b[38;5;241m.\u001b[39mconfig\u001b[38;5;241m.\u001b[39mnum_hidden_layers)\n\u001b[1;32m    897\u001b[0m embedding_output \u001b[38;5;241m=\u001b[39m \u001b[38;5;28mself\u001b[39m\u001b[38;5;241m.\u001b[39membeddings(\n\u001b[1;32m    898\u001b[0m     input_ids\u001b[38;5;241m=\u001b[39minput_ids,\n\u001b[1;32m    899\u001b[0m     position_ids\u001b[38;5;241m=\u001b[39mposition_ids,\n\u001b[0;32m   (...)\u001b[0m\n\u001b[1;32m    902\u001b[0m     past_key_values_length\u001b[38;5;241m=\u001b[39mpast_key_values_length,\n\u001b[1;32m    903\u001b[0m )\n\u001b[0;32m--> 904\u001b[0m encoder_outputs \u001b[38;5;241m=\u001b[39m \u001b[38;5;28;43mself\u001b[39;49m\u001b[38;5;241;43m.\u001b[39;49m\u001b[43mencoder\u001b[49m\u001b[43m(\u001b[49m\n\u001b[1;32m    905\u001b[0m \u001b[43m    \u001b[49m\u001b[43membedding_output\u001b[49m\u001b[43m,\u001b[49m\n\u001b[1;32m    906\u001b[0m \u001b[43m    \u001b[49m\u001b[43mattention_mask\u001b[49m\u001b[38;5;241;43m=\u001b[39;49m\u001b[43mextended_attention_mask\u001b[49m\u001b[43m,\u001b[49m\n\u001b[1;32m    907\u001b[0m \u001b[43m    \u001b[49m\u001b[43mhead_mask\u001b[49m\u001b[38;5;241;43m=\u001b[39;49m\u001b[43mhead_mask\u001b[49m\u001b[43m,\u001b[49m\n\u001b[1;32m    908\u001b[0m \u001b[43m    \u001b[49m\u001b[43mencoder_hidden_states\u001b[49m\u001b[38;5;241;43m=\u001b[39;49m\u001b[43mencoder_hidden_states\u001b[49m\u001b[43m,\u001b[49m\n\u001b[1;32m    909\u001b[0m \u001b[43m    \u001b[49m\u001b[43mencoder_attention_mask\u001b[49m\u001b[38;5;241;43m=\u001b[39;49m\u001b[43mencoder_extended_attention_mask\u001b[49m\u001b[43m,\u001b[49m\n\u001b[1;32m    910\u001b[0m \u001b[43m    \u001b[49m\u001b[43mpast_key_values\u001b[49m\u001b[38;5;241;43m=\u001b[39;49m\u001b[43mpast_key_values\u001b[49m\u001b[43m,\u001b[49m\n\u001b[1;32m    911\u001b[0m \u001b[43m    \u001b[49m\u001b[43muse_cache\u001b[49m\u001b[38;5;241;43m=\u001b[39;49m\u001b[43muse_cache\u001b[49m\u001b[43m,\u001b[49m\n\u001b[1;32m    912\u001b[0m \u001b[43m    \u001b[49m\u001b[43moutput_attentions\u001b[49m\u001b[38;5;241;43m=\u001b[39;49m\u001b[43moutput_attentions\u001b[49m\u001b[43m,\u001b[49m\n\u001b[1;32m    913\u001b[0m \u001b[43m    \u001b[49m\u001b[43moutput_hidden_states\u001b[49m\u001b[38;5;241;43m=\u001b[39;49m\u001b[43moutput_hidden_states\u001b[49m\u001b[43m,\u001b[49m\n\u001b[1;32m    914\u001b[0m \u001b[43m    \u001b[49m\u001b[43mreturn_dict\u001b[49m\u001b[38;5;241;43m=\u001b[39;49m\u001b[43mreturn_dict\u001b[49m\u001b[43m,\u001b[49m\n\u001b[1;32m    915\u001b[0m \u001b[43m\u001b[49m\u001b[43m)\u001b[49m\n\u001b[1;32m    916\u001b[0m sequence_output \u001b[38;5;241m=\u001b[39m encoder_outputs[\u001b[38;5;241m0\u001b[39m]\n\u001b[1;32m    917\u001b[0m pooled_output \u001b[38;5;241m=\u001b[39m \u001b[38;5;28mself\u001b[39m\u001b[38;5;241m.\u001b[39mpooler(sequence_output) \u001b[38;5;28;01mif\u001b[39;00m \u001b[38;5;28mself\u001b[39m\u001b[38;5;241m.\u001b[39mpooler \u001b[38;5;129;01mis\u001b[39;00m \u001b[38;5;129;01mnot\u001b[39;00m \u001b[38;5;28;01mNone\u001b[39;00m \u001b[38;5;28;01melse\u001b[39;00m \u001b[38;5;28;01mNone\u001b[39;00m\n",
      "File \u001b[0;32m/opt/mamba/lib/python3.10/site-packages/torch/nn/modules/module.py:1501\u001b[0m, in \u001b[0;36mModule._call_impl\u001b[0;34m(self, *args, **kwargs)\u001b[0m\n\u001b[1;32m   1496\u001b[0m \u001b[38;5;66;03m# If we don't have any hooks, we want to skip the rest of the logic in\u001b[39;00m\n\u001b[1;32m   1497\u001b[0m \u001b[38;5;66;03m# this function, and just call forward.\u001b[39;00m\n\u001b[1;32m   1498\u001b[0m \u001b[38;5;28;01mif\u001b[39;00m \u001b[38;5;129;01mnot\u001b[39;00m (\u001b[38;5;28mself\u001b[39m\u001b[38;5;241m.\u001b[39m_backward_hooks \u001b[38;5;129;01mor\u001b[39;00m \u001b[38;5;28mself\u001b[39m\u001b[38;5;241m.\u001b[39m_backward_pre_hooks \u001b[38;5;129;01mor\u001b[39;00m \u001b[38;5;28mself\u001b[39m\u001b[38;5;241m.\u001b[39m_forward_hooks \u001b[38;5;129;01mor\u001b[39;00m \u001b[38;5;28mself\u001b[39m\u001b[38;5;241m.\u001b[39m_forward_pre_hooks\n\u001b[1;32m   1499\u001b[0m         \u001b[38;5;129;01mor\u001b[39;00m _global_backward_pre_hooks \u001b[38;5;129;01mor\u001b[39;00m _global_backward_hooks\n\u001b[1;32m   1500\u001b[0m         \u001b[38;5;129;01mor\u001b[39;00m _global_forward_hooks \u001b[38;5;129;01mor\u001b[39;00m _global_forward_pre_hooks):\n\u001b[0;32m-> 1501\u001b[0m     \u001b[38;5;28;01mreturn\u001b[39;00m \u001b[43mforward_call\u001b[49m\u001b[43m(\u001b[49m\u001b[38;5;241;43m*\u001b[39;49m\u001b[43margs\u001b[49m\u001b[43m,\u001b[49m\u001b[43m \u001b[49m\u001b[38;5;241;43m*\u001b[39;49m\u001b[38;5;241;43m*\u001b[39;49m\u001b[43mkwargs\u001b[49m\u001b[43m)\u001b[49m\n\u001b[1;32m   1502\u001b[0m \u001b[38;5;66;03m# Do not call functions when jit is used\u001b[39;00m\n\u001b[1;32m   1503\u001b[0m full_backward_hooks, non_full_backward_hooks \u001b[38;5;241m=\u001b[39m [], []\n",
      "File \u001b[0;32m/opt/mamba/lib/python3.10/site-packages/transformers/models/camembert/modeling_camembert.py:541\u001b[0m, in \u001b[0;36mCamembertEncoder.forward\u001b[0;34m(self, hidden_states, attention_mask, head_mask, encoder_hidden_states, encoder_attention_mask, past_key_values, use_cache, output_attentions, output_hidden_states, return_dict)\u001b[0m\n\u001b[1;32m    532\u001b[0m     layer_outputs \u001b[38;5;241m=\u001b[39m torch\u001b[38;5;241m.\u001b[39mutils\u001b[38;5;241m.\u001b[39mcheckpoint\u001b[38;5;241m.\u001b[39mcheckpoint(\n\u001b[1;32m    533\u001b[0m         create_custom_forward(layer_module),\n\u001b[1;32m    534\u001b[0m         hidden_states,\n\u001b[0;32m   (...)\u001b[0m\n\u001b[1;32m    538\u001b[0m         encoder_attention_mask,\n\u001b[1;32m    539\u001b[0m     )\n\u001b[1;32m    540\u001b[0m \u001b[38;5;28;01melse\u001b[39;00m:\n\u001b[0;32m--> 541\u001b[0m     layer_outputs \u001b[38;5;241m=\u001b[39m \u001b[43mlayer_module\u001b[49m\u001b[43m(\u001b[49m\n\u001b[1;32m    542\u001b[0m \u001b[43m        \u001b[49m\u001b[43mhidden_states\u001b[49m\u001b[43m,\u001b[49m\n\u001b[1;32m    543\u001b[0m \u001b[43m        \u001b[49m\u001b[43mattention_mask\u001b[49m\u001b[43m,\u001b[49m\n\u001b[1;32m    544\u001b[0m \u001b[43m        \u001b[49m\u001b[43mlayer_head_mask\u001b[49m\u001b[43m,\u001b[49m\n\u001b[1;32m    545\u001b[0m \u001b[43m        \u001b[49m\u001b[43mencoder_hidden_states\u001b[49m\u001b[43m,\u001b[49m\n\u001b[1;32m    546\u001b[0m \u001b[43m        \u001b[49m\u001b[43mencoder_attention_mask\u001b[49m\u001b[43m,\u001b[49m\n\u001b[1;32m    547\u001b[0m \u001b[43m        \u001b[49m\u001b[43mpast_key_value\u001b[49m\u001b[43m,\u001b[49m\n\u001b[1;32m    548\u001b[0m \u001b[43m        \u001b[49m\u001b[43moutput_attentions\u001b[49m\u001b[43m,\u001b[49m\n\u001b[1;32m    549\u001b[0m \u001b[43m    \u001b[49m\u001b[43m)\u001b[49m\n\u001b[1;32m    551\u001b[0m hidden_states \u001b[38;5;241m=\u001b[39m layer_outputs[\u001b[38;5;241m0\u001b[39m]\n\u001b[1;32m    552\u001b[0m \u001b[38;5;28;01mif\u001b[39;00m use_cache:\n",
      "File \u001b[0;32m/opt/mamba/lib/python3.10/site-packages/torch/nn/modules/module.py:1501\u001b[0m, in \u001b[0;36mModule._call_impl\u001b[0;34m(self, *args, **kwargs)\u001b[0m\n\u001b[1;32m   1496\u001b[0m \u001b[38;5;66;03m# If we don't have any hooks, we want to skip the rest of the logic in\u001b[39;00m\n\u001b[1;32m   1497\u001b[0m \u001b[38;5;66;03m# this function, and just call forward.\u001b[39;00m\n\u001b[1;32m   1498\u001b[0m \u001b[38;5;28;01mif\u001b[39;00m \u001b[38;5;129;01mnot\u001b[39;00m (\u001b[38;5;28mself\u001b[39m\u001b[38;5;241m.\u001b[39m_backward_hooks \u001b[38;5;129;01mor\u001b[39;00m \u001b[38;5;28mself\u001b[39m\u001b[38;5;241m.\u001b[39m_backward_pre_hooks \u001b[38;5;129;01mor\u001b[39;00m \u001b[38;5;28mself\u001b[39m\u001b[38;5;241m.\u001b[39m_forward_hooks \u001b[38;5;129;01mor\u001b[39;00m \u001b[38;5;28mself\u001b[39m\u001b[38;5;241m.\u001b[39m_forward_pre_hooks\n\u001b[1;32m   1499\u001b[0m         \u001b[38;5;129;01mor\u001b[39;00m _global_backward_pre_hooks \u001b[38;5;129;01mor\u001b[39;00m _global_backward_hooks\n\u001b[1;32m   1500\u001b[0m         \u001b[38;5;129;01mor\u001b[39;00m _global_forward_hooks \u001b[38;5;129;01mor\u001b[39;00m _global_forward_pre_hooks):\n\u001b[0;32m-> 1501\u001b[0m     \u001b[38;5;28;01mreturn\u001b[39;00m \u001b[43mforward_call\u001b[49m\u001b[43m(\u001b[49m\u001b[38;5;241;43m*\u001b[39;49m\u001b[43margs\u001b[49m\u001b[43m,\u001b[49m\u001b[43m \u001b[49m\u001b[38;5;241;43m*\u001b[39;49m\u001b[38;5;241;43m*\u001b[39;49m\u001b[43mkwargs\u001b[49m\u001b[43m)\u001b[49m\n\u001b[1;32m   1502\u001b[0m \u001b[38;5;66;03m# Do not call functions when jit is used\u001b[39;00m\n\u001b[1;32m   1503\u001b[0m full_backward_hooks, non_full_backward_hooks \u001b[38;5;241m=\u001b[39m [], []\n",
      "File \u001b[0;32m/opt/mamba/lib/python3.10/site-packages/transformers/models/camembert/modeling_camembert.py:467\u001b[0m, in \u001b[0;36mCamembertLayer.forward\u001b[0;34m(self, hidden_states, attention_mask, head_mask, encoder_hidden_states, encoder_attention_mask, past_key_value, output_attentions)\u001b[0m\n\u001b[1;32m    464\u001b[0m     cross_attn_present_key_value \u001b[38;5;241m=\u001b[39m cross_attention_outputs[\u001b[38;5;241m-\u001b[39m\u001b[38;5;241m1\u001b[39m]\n\u001b[1;32m    465\u001b[0m     present_key_value \u001b[38;5;241m=\u001b[39m present_key_value \u001b[38;5;241m+\u001b[39m cross_attn_present_key_value\n\u001b[0;32m--> 467\u001b[0m layer_output \u001b[38;5;241m=\u001b[39m \u001b[43mapply_chunking_to_forward\u001b[49m\u001b[43m(\u001b[49m\n\u001b[1;32m    468\u001b[0m \u001b[43m    \u001b[49m\u001b[38;5;28;43mself\u001b[39;49m\u001b[38;5;241;43m.\u001b[39;49m\u001b[43mfeed_forward_chunk\u001b[49m\u001b[43m,\u001b[49m\u001b[43m \u001b[49m\u001b[38;5;28;43mself\u001b[39;49m\u001b[38;5;241;43m.\u001b[39;49m\u001b[43mchunk_size_feed_forward\u001b[49m\u001b[43m,\u001b[49m\u001b[43m \u001b[49m\u001b[38;5;28;43mself\u001b[39;49m\u001b[38;5;241;43m.\u001b[39;49m\u001b[43mseq_len_dim\u001b[49m\u001b[43m,\u001b[49m\u001b[43m \u001b[49m\u001b[43mattention_output\u001b[49m\n\u001b[1;32m    469\u001b[0m \u001b[43m\u001b[49m\u001b[43m)\u001b[49m\n\u001b[1;32m    470\u001b[0m outputs \u001b[38;5;241m=\u001b[39m (layer_output,) \u001b[38;5;241m+\u001b[39m outputs\n\u001b[1;32m    472\u001b[0m \u001b[38;5;66;03m# if decoder, return the attn key/values as the last output\u001b[39;00m\n",
      "File \u001b[0;32m/opt/mamba/lib/python3.10/site-packages/transformers/pytorch_utils.py:248\u001b[0m, in \u001b[0;36mapply_chunking_to_forward\u001b[0;34m(forward_fn, chunk_size, chunk_dim, *input_tensors)\u001b[0m\n\u001b[1;32m    245\u001b[0m     \u001b[38;5;66;03m# concatenate output at same dimension\u001b[39;00m\n\u001b[1;32m    246\u001b[0m     \u001b[38;5;28;01mreturn\u001b[39;00m torch\u001b[38;5;241m.\u001b[39mcat(output_chunks, dim\u001b[38;5;241m=\u001b[39mchunk_dim)\n\u001b[0;32m--> 248\u001b[0m \u001b[38;5;28;01mreturn\u001b[39;00m \u001b[43mforward_fn\u001b[49m\u001b[43m(\u001b[49m\u001b[38;5;241;43m*\u001b[39;49m\u001b[43minput_tensors\u001b[49m\u001b[43m)\u001b[49m\n",
      "File \u001b[0;32m/opt/mamba/lib/python3.10/site-packages/transformers/models/camembert/modeling_camembert.py:479\u001b[0m, in \u001b[0;36mCamembertLayer.feed_forward_chunk\u001b[0;34m(self, attention_output)\u001b[0m\n\u001b[1;32m    478\u001b[0m \u001b[38;5;28;01mdef\u001b[39;00m \u001b[38;5;21mfeed_forward_chunk\u001b[39m(\u001b[38;5;28mself\u001b[39m, attention_output):\n\u001b[0;32m--> 479\u001b[0m     intermediate_output \u001b[38;5;241m=\u001b[39m \u001b[38;5;28;43mself\u001b[39;49m\u001b[38;5;241;43m.\u001b[39;49m\u001b[43mintermediate\u001b[49m\u001b[43m(\u001b[49m\u001b[43mattention_output\u001b[49m\u001b[43m)\u001b[49m\n\u001b[1;32m    480\u001b[0m     layer_output \u001b[38;5;241m=\u001b[39m \u001b[38;5;28mself\u001b[39m\u001b[38;5;241m.\u001b[39moutput(intermediate_output, attention_output)\n\u001b[1;32m    481\u001b[0m     \u001b[38;5;28;01mreturn\u001b[39;00m layer_output\n",
      "File \u001b[0;32m/opt/mamba/lib/python3.10/site-packages/torch/nn/modules/module.py:1501\u001b[0m, in \u001b[0;36mModule._call_impl\u001b[0;34m(self, *args, **kwargs)\u001b[0m\n\u001b[1;32m   1496\u001b[0m \u001b[38;5;66;03m# If we don't have any hooks, we want to skip the rest of the logic in\u001b[39;00m\n\u001b[1;32m   1497\u001b[0m \u001b[38;5;66;03m# this function, and just call forward.\u001b[39;00m\n\u001b[1;32m   1498\u001b[0m \u001b[38;5;28;01mif\u001b[39;00m \u001b[38;5;129;01mnot\u001b[39;00m (\u001b[38;5;28mself\u001b[39m\u001b[38;5;241m.\u001b[39m_backward_hooks \u001b[38;5;129;01mor\u001b[39;00m \u001b[38;5;28mself\u001b[39m\u001b[38;5;241m.\u001b[39m_backward_pre_hooks \u001b[38;5;129;01mor\u001b[39;00m \u001b[38;5;28mself\u001b[39m\u001b[38;5;241m.\u001b[39m_forward_hooks \u001b[38;5;129;01mor\u001b[39;00m \u001b[38;5;28mself\u001b[39m\u001b[38;5;241m.\u001b[39m_forward_pre_hooks\n\u001b[1;32m   1499\u001b[0m         \u001b[38;5;129;01mor\u001b[39;00m _global_backward_pre_hooks \u001b[38;5;129;01mor\u001b[39;00m _global_backward_hooks\n\u001b[1;32m   1500\u001b[0m         \u001b[38;5;129;01mor\u001b[39;00m _global_forward_hooks \u001b[38;5;129;01mor\u001b[39;00m _global_forward_pre_hooks):\n\u001b[0;32m-> 1501\u001b[0m     \u001b[38;5;28;01mreturn\u001b[39;00m \u001b[43mforward_call\u001b[49m\u001b[43m(\u001b[49m\u001b[38;5;241;43m*\u001b[39;49m\u001b[43margs\u001b[49m\u001b[43m,\u001b[49m\u001b[43m \u001b[49m\u001b[38;5;241;43m*\u001b[39;49m\u001b[38;5;241;43m*\u001b[39;49m\u001b[43mkwargs\u001b[49m\u001b[43m)\u001b[49m\n\u001b[1;32m   1502\u001b[0m \u001b[38;5;66;03m# Do not call functions when jit is used\u001b[39;00m\n\u001b[1;32m   1503\u001b[0m full_backward_hooks, non_full_backward_hooks \u001b[38;5;241m=\u001b[39m [], []\n",
      "File \u001b[0;32m/opt/mamba/lib/python3.10/site-packages/transformers/models/camembert/modeling_camembert.py:377\u001b[0m, in \u001b[0;36mCamembertIntermediate.forward\u001b[0;34m(self, hidden_states)\u001b[0m\n\u001b[1;32m    376\u001b[0m \u001b[38;5;28;01mdef\u001b[39;00m \u001b[38;5;21mforward\u001b[39m(\u001b[38;5;28mself\u001b[39m, hidden_states: torch\u001b[38;5;241m.\u001b[39mTensor) \u001b[38;5;241m-\u001b[39m\u001b[38;5;241m>\u001b[39m torch\u001b[38;5;241m.\u001b[39mTensor:\n\u001b[0;32m--> 377\u001b[0m     hidden_states \u001b[38;5;241m=\u001b[39m \u001b[38;5;28;43mself\u001b[39;49m\u001b[38;5;241;43m.\u001b[39;49m\u001b[43mdense\u001b[49m\u001b[43m(\u001b[49m\u001b[43mhidden_states\u001b[49m\u001b[43m)\u001b[49m\n\u001b[1;32m    378\u001b[0m     hidden_states \u001b[38;5;241m=\u001b[39m \u001b[38;5;28mself\u001b[39m\u001b[38;5;241m.\u001b[39mintermediate_act_fn(hidden_states)\n\u001b[1;32m    379\u001b[0m     \u001b[38;5;28;01mreturn\u001b[39;00m hidden_states\n",
      "File \u001b[0;32m/opt/mamba/lib/python3.10/site-packages/torch/nn/modules/module.py:1501\u001b[0m, in \u001b[0;36mModule._call_impl\u001b[0;34m(self, *args, **kwargs)\u001b[0m\n\u001b[1;32m   1496\u001b[0m \u001b[38;5;66;03m# If we don't have any hooks, we want to skip the rest of the logic in\u001b[39;00m\n\u001b[1;32m   1497\u001b[0m \u001b[38;5;66;03m# this function, and just call forward.\u001b[39;00m\n\u001b[1;32m   1498\u001b[0m \u001b[38;5;28;01mif\u001b[39;00m \u001b[38;5;129;01mnot\u001b[39;00m (\u001b[38;5;28mself\u001b[39m\u001b[38;5;241m.\u001b[39m_backward_hooks \u001b[38;5;129;01mor\u001b[39;00m \u001b[38;5;28mself\u001b[39m\u001b[38;5;241m.\u001b[39m_backward_pre_hooks \u001b[38;5;129;01mor\u001b[39;00m \u001b[38;5;28mself\u001b[39m\u001b[38;5;241m.\u001b[39m_forward_hooks \u001b[38;5;129;01mor\u001b[39;00m \u001b[38;5;28mself\u001b[39m\u001b[38;5;241m.\u001b[39m_forward_pre_hooks\n\u001b[1;32m   1499\u001b[0m         \u001b[38;5;129;01mor\u001b[39;00m _global_backward_pre_hooks \u001b[38;5;129;01mor\u001b[39;00m _global_backward_hooks\n\u001b[1;32m   1500\u001b[0m         \u001b[38;5;129;01mor\u001b[39;00m _global_forward_hooks \u001b[38;5;129;01mor\u001b[39;00m _global_forward_pre_hooks):\n\u001b[0;32m-> 1501\u001b[0m     \u001b[38;5;28;01mreturn\u001b[39;00m \u001b[43mforward_call\u001b[49m\u001b[43m(\u001b[49m\u001b[38;5;241;43m*\u001b[39;49m\u001b[43margs\u001b[49m\u001b[43m,\u001b[49m\u001b[43m \u001b[49m\u001b[38;5;241;43m*\u001b[39;49m\u001b[38;5;241;43m*\u001b[39;49m\u001b[43mkwargs\u001b[49m\u001b[43m)\u001b[49m\n\u001b[1;32m   1502\u001b[0m \u001b[38;5;66;03m# Do not call functions when jit is used\u001b[39;00m\n\u001b[1;32m   1503\u001b[0m full_backward_hooks, non_full_backward_hooks \u001b[38;5;241m=\u001b[39m [], []\n",
      "File \u001b[0;32m/opt/mamba/lib/python3.10/site-packages/torch/nn/modules/linear.py:114\u001b[0m, in \u001b[0;36mLinear.forward\u001b[0;34m(self, input)\u001b[0m\n\u001b[1;32m    113\u001b[0m \u001b[38;5;28;01mdef\u001b[39;00m \u001b[38;5;21mforward\u001b[39m(\u001b[38;5;28mself\u001b[39m, \u001b[38;5;28minput\u001b[39m: Tensor) \u001b[38;5;241m-\u001b[39m\u001b[38;5;241m>\u001b[39m Tensor:\n\u001b[0;32m--> 114\u001b[0m     \u001b[38;5;28;01mreturn\u001b[39;00m \u001b[43mF\u001b[49m\u001b[38;5;241;43m.\u001b[39;49m\u001b[43mlinear\u001b[49m\u001b[43m(\u001b[49m\u001b[38;5;28;43minput\u001b[39;49m\u001b[43m,\u001b[49m\u001b[43m \u001b[49m\u001b[38;5;28;43mself\u001b[39;49m\u001b[38;5;241;43m.\u001b[39;49m\u001b[43mweight\u001b[49m\u001b[43m,\u001b[49m\u001b[43m \u001b[49m\u001b[38;5;28;43mself\u001b[39;49m\u001b[38;5;241;43m.\u001b[39;49m\u001b[43mbias\u001b[49m\u001b[43m)\u001b[49m\n",
      "\u001b[0;31mKeyboardInterrupt\u001b[0m: "
     ]
    }
   ],
   "source": [
    "predictions_val = predict(model, validation_dataloader)\n"
   ]
  },
  {
   "cell_type": "code",
   "execution_count": 70,
   "metadata": {
    "tags": []
   },
   "outputs": [
    {
     "name": "stdout",
     "output_type": "stream",
     "text": [
      "{0.0: 17, 1.0: 100, 2.0: 343, 3.0: 42}\n"
     ]
    }
   ],
   "source": [
    "unique, counts = np.unique(validation_labels.numpy(), return_counts=True)\n",
    "label_counts = dict(zip(unique, counts))\n",
    "print(label_counts)"
   ]
  },
  {
   "cell_type": "code",
   "execution_count": 60,
   "metadata": {},
   "outputs": [],
   "source": [
    "cm = confusion_matrix(validation_labels, predictions)"
   ]
  },
  {
   "cell_type": "code",
   "execution_count": 71,
   "metadata": {
    "tags": []
   },
   "outputs": [],
   "source": [
    "cm_df = pd.DataFrame(cm,\n",
    "                     index = ['Autre','Presse','Opinion','Témoignage'], \n",
    "                     columns = ['Autre','Presse','Opinion','Témoignage'])"
   ]
  },
  {
   "cell_type": "code",
   "execution_count": 76,
   "metadata": {
    "tags": []
   },
   "outputs": [
    {
     "data": {
      "image/png": "[encoded data removed]",
      "text/plain": [
       "<Figure size 500x400 with 1 Axes>"
      ]
     },
     "metadata": {},
     "output_type": "display_data"
    }
   ],
   "source": [
    "plt.figure(figsize=(5,4))\n",
    "sns.heatmap(cm_df, annot=True, cbar = False)\n",
    "plt.title('Confusion Matrix')\n",
    "plt.ylabel('')\n",
    "plt.xlabel('Prédictions')\n",
    "plt.show()"
   ]
  },
  {
   "cell_type": "code",
   "execution_count": null,
   "metadata": {},
   "outputs": [],
   "source": []
  }
 ],
 "metadata": {
  "colab": {
   "provenance": []
  },
  "kernelspec": {
   "display_name": "Python 3 (ipykernel)",
   "language": "python",
   "name": "python3"
  },
  "language_info": {
   "codemirror_mode": {
    "name": "ipython",
    "version": 3
   },
   "file_extension": ".py",
   "mimetype": "text/x-python",
   "name": "python",
   "nbconvert_exporter": "python",
   "pygments_lexer": "ipython3",
   "version": "3.9.13"
  }
 },
 "nbformat": 4,
 "nbformat_minor": 4
}
