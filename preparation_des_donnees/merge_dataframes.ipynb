{
 "cells": [
  {
   "cell_type": "code",
   "execution_count": 1,
   "id": "9738053f",
   "metadata": {},
   "outputs": [
    {
     "name": "stderr",
     "output_type": "stream",
     "text": [
      "[nltk_data] Downloading package stopwords to\n",
      "[nltk_data]     C:\\Users\\Clara\\AppData\\Roaming\\nltk_data...\n",
      "[nltk_data]   Package stopwords is already up-to-date!\n",
      "[nltk_data] Downloading package punkt to\n",
      "[nltk_data]     C:\\Users\\Clara\\AppData\\Roaming\\nltk_data...\n",
      "[nltk_data]   Package punkt is already up-to-date!\n",
      "[nltk_data] Downloading package genesis to\n",
      "[nltk_data]     C:\\Users\\Clara\\AppData\\Roaming\\nltk_data...\n",
      "[nltk_data]   Package genesis is already up-to-date!\n",
      "[nltk_data] Downloading package wordnet to\n",
      "[nltk_data]     C:\\Users\\Clara\\AppData\\Roaming\\nltk_data...\n",
      "[nltk_data]   Package wordnet is already up-to-date!\n"
     ]
    }
   ],
   "source": [
    "from packages import *\n",
    "from functions import *"
   ]
  },
  {
   "cell_type": "code",
   "execution_count": 2,
   "id": "79de246a",
   "metadata": {},
   "outputs": [],
   "source": [
    "api = pd.read_csv('data/base_api_concat_clean.csv')\n",
    "ina = pd.read_csv('data/base_ina_concat_clean.csv')"
   ]
  },
  {
   "cell_type": "code",
   "execution_count": 3,
   "id": "c29daad9",
   "metadata": {},
   "outputs": [],
   "source": [
    "api['source_base'] = 'api'\n",
    "ina['source_base'] = 'ina'"
   ]
  },
  {
   "cell_type": "code",
   "execution_count": 5,
   "id": "895effc0",
   "metadata": {},
   "outputs": [],
   "source": [
    "concat = pd.concat([ina,api], axis=0).drop_duplicates('tweet_id')"
   ]
  },
  {
   "cell_type": "code",
   "execution_count": 6,
   "id": "910589b5",
   "metadata": {},
   "outputs": [],
   "source": [
    "concat.to_csv('base_complete_022023.csv')"
   ]
  },
  {
   "cell_type": "code",
   "execution_count": null,
   "id": "9271dea1",
   "metadata": {},
   "outputs": [],
   "source": []
  }
 ],
 "metadata": {
  "kernelspec": {
   "display_name": "Python 3 (ipykernel)",
   "language": "python",
   "name": "python3"
  },
  "language_info": {
   "codemirror_mode": {
    "name": "ipython",
    "version": 3
   },
   "file_extension": ".py",
   "mimetype": "text/x-python",
   "name": "python",
   "nbconvert_exporter": "python",
   "pygments_lexer": "ipython3",
   "version": "3.9.13"
  }
 },
 "nbformat": 4,
 "nbformat_minor": 5
}
