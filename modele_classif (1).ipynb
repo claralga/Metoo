{
 "cells": [
  {
   "cell_type": "code",
   "execution_count": 61,
   "metadata": {
    "id": "kV9SWKZSWAh0",
    "tags": []
   },
   "outputs": [],
   "source": [
    "from pprint import pprint\n",
    "import functools\n",
    "\n",
    "import torch\n",
    "from torch.utils.data import DataLoader\n",
    "import torch.nn.functional as F\n",
    "#from transformers import AutoModelForSequenceClassification, CamembertForMaskedLM, AutoTokenizer, AutoConfig\n",
    "from sklearn.metrics import confusion_matrix, f1_score\n",
    "\n",
    "import matplotlib.pyplot as plt\n",
    "import seaborn as sns\n",
    "import plotly.express as px\n",
    "from tqdm.notebook import tqdm\n",
    "\n",
    "import pandas as pd\n",
    "import torch\n",
    "from tqdm import tqdm, trange\n",
    "import numpy as np\n",
    "import csv\n",
    "\n",
    "\n",
    "# Importing specific libraries for data prerpcessing, model archtecture choice, training and evaluation\n",
    "from sklearn.model_selection import train_test_split\n",
    "from tensorflow.keras.preprocessing.sequence import pad_sequences\n",
    "from torch.utils.data import TensorDataset, DataLoader, RandomSampler, SequentialSampler\n",
    "from transformers import CamembertTokenizer, CamembertForSequenceClassification\n",
    "from transformers import AdamW"
   ]
  },
  {
   "cell_type": "code",
   "execution_count": 62,
   "metadata": {
    "id": "pADt5CykCKaz",
    "tags": []
   },
   "outputs": [],
   "source": [
    "def labeliser_tweet(df, nb_tweets=5, random_state=0):\n",
    "    \n",
    "    # Vérifier si le fichier \"label.csv\" existe et charger les tweet_id déjà labelisés\n",
    "    tweets_labelises = set()\n",
    "    try:\n",
    "        with open('label.csv', mode='r', encoding='utf-8') as f:\n",
    "            reader = csv.DictReader(f)\n",
    "            for row in reader:\n",
    "                tweets_labelises.add(row['tweet_id'])\n",
    "    except FileNotFoundError:\n",
    "        pass\n",
    "    \n",
    "    # Sélectionner un échantillon aléatoire de tweets non encore labelisés\n",
    "    df_a_labeliser = df[~df.index.isin(tweets_labelises)].sample(n=nb_tweets, random_state=random_state)\n",
    "    \n",
    "    # Labeliser les tweets sélectionnés et enregistrer les labels dans un fichier CSV\n",
    "    with open('label.csv', mode='a', newline='', encoding='utf-8') as f:\n",
    "        writer = csv.writer(f)\n",
    "        if f.tell() == 0:\n",
    "            writer.writerow(['tweet_id', 'text', 'label'])\n",
    "        for tweet_id, text in df_a_labeliser['text'].items():\n",
    "            label = input(f'Label pour le tweet suivant :\\n{text}\\n')\n",
    "            # Écrire les données labelisées dans le fichier CSV\n",
    "            writer.writerow([tweet_id, text, label])\n"
   ]
  },
  {
   "cell_type": "code",
   "execution_count": 3,
   "metadata": {
    "colab": {
     "base_uri": "https://localhost:8080/",
     "height": 329
    },
    "id": "fGUP7YlcanuW",
    "outputId": "9d6da307-a96e-45dc-ca7f-acd015856f90",
    "tags": []
   },
   "outputs": [],
   "source": [
    "df = pd.read_csv('data/data_concat_clean/base_annotation_fev23.csv', index_col='tweet_id').drop('Unnamed: 0', axis=1)"
   ]
  },
  {
   "cell_type": "code",
   "execution_count": 7,
   "metadata": {
    "colab": {
     "base_uri": "https://localhost:8080/"
    },
    "id": "BKjOXzht-kvr",
    "outputId": "18bd519c-92df-4ce6-c15c-ec4555f02a8c",
    "tags": []
   },
   "outputs": [
    {
     "name": "stdout",
     "output_type": "stream",
     "text": [
      "Label pour le tweet suivant :\n",
      "Homme femelle N°19: 🤳\"Fais très vite mon amour, car tu dois ensuite aller lui les torcher... Ta chérie qui t'aime\".  #feminisme #metoo #violencesconjugales https://t.co/wEyZ2ucc0c\n",
      "3\n",
      "Label pour le tweet suivant :\n",
      "Procès de #balancetonporc : Sandra Muller dénonce “une inversion des rôles où le prédateur devient la proie, la proie devient le prédateur\"  ➡ https://t.co/tXIFSsR12K https://t.co/law5XfRHTz\n",
      "1\n",
      "Label pour le tweet suivant :\n",
      "@canalplus, une réaction officielle peut-être sur les révélations visant @PierreMenes ?... #PierreMenesOut #balancetonporc   #BalanceTonMenes #JeNeSuisPasUneSalope https://t.co/ParThES1UG\n",
      "2\n",
      "Label pour le tweet suivant :\n",
      "“J’ai poussé un cri de colère” : jugée en diffamation, la journaliste Sandra Muller à l’origine de #Balancetonporc plaide “la libération de la parole des femmes” https://t.co/nHix95DBmq\n",
      "1\n",
      "Label pour le tweet suivant :\n",
      "https://t.co/wFK3baer5V … dossier sur anissa jbr (achat de follower ,consomation de stup escorting) #jeremstarcensure   #BalanceTonPorc   #jeremstarcensure #babybel    #LaVilla3 #fiansosurskyrock  #JeremstarGate  #BALANCETONBABYBEL  #BalanceTonPorc  #Balancetatruie  #LPEPDLA\n",
      "2\n",
      "Label pour le tweet suivant :\n",
      "@RC_ML pour continuer sur la vague de ce matin, la merveilleuse Nadia Daam @zappette parle, elle aussi, de son scepticisme de voir Mme Deneuve dans le métro à 8h du mat. #moiaussi #MeToo #BalanceTonPorc https://t.co/Ns8vVKXAS0 :QT: \"Les américains ont Oprah Winfrey et des débats sur Woody Allen, nous on a Elisabeth Lévy, des défenseurs du droit inaliénable à coller des mains au cul, et des débats sur les blagues de Tex !\"  Réécoutez le billet de Nadia Daam (@Zappette) #E1matin ⬇️ https://t.co/92svLYh4Vj\n",
      "2\n",
      "Label pour le tweet suivant :\n",
      "@sychazot Et comme elle ne va pas être nommée elle va encore instrumentaliser #metoo\n",
      "2\n",
      "Label pour le tweet suivant :\n",
      "@TPZ_Rap ... elle dénonce des choses ce qui a un lien avec le #balancetonporc ... la comparaison est pas nécessaire bref\n",
      "2\n",
      "Label pour le tweet suivant :\n",
      "On se demandera aussi si celles qui ont usé de leurs atouts via promotion canapé pour un poste parleront..#balancetonporc\n",
      "2\n",
      "Label pour le tweet suivant :\n",
      "ça critique Pierre Mènes mais ça klaxonne, siffle et traite les femmes quand ça passe en bande dans une Peugeot 206 💀💀💀 #PierreMenesOut #TPMP #balancetonporc\n",
      "2\n",
      "Label pour le tweet suivant :\n",
      "@SDJ_LCP a voté suite à la direction de remettre @frhaz à l'antenne .. étrangement ça ne choque pas beaucoup de monde .. c'est fini #Balancetonporc ? Où ça vaut que pour certains #Haziza https://t.co/EOFckFfNbp\n",
      "2\n",
      "Label pour le tweet suivant :\n",
      "Plaintes pour violences sexuelles (par le dessinateur Schvartz) -&gt; https://t.co/ymSfoZ7Wok #actualitéendessins #JM #LOL #violencessexuelles #agressionssexuelles #violencesfaitesauxfemmes #harcèlementsexuel #paroledesfemmes #balanceTonPorc #schvartz #weinsteinscandal\n",
      "1\n",
      "Label pour le tweet suivant :\n",
      "#GisèleHalimi était heureuse de voir qu'il y avait des ferments de révolte un peu partout   Exemple : #MeToo  Annick Cojean  Cléa @Zenon8703 https://t.co/z3svClWRO6\n",
      "2\n",
      "Label pour le tweet suivant :\n",
      "Vous pouvez également le faire au commissariat ou gendarmerie le/la plus proche de chez vous #balancetonporc https://t.co/qWsG8KMISx\n",
      "2\n",
      "Label pour le tweet suivant :\n",
      "Erdoğan le Dictateur islamiste !!! Insulte et amalgame volontaire avec des groupuscules terroristes. Erdoğan les combats depuis des lustres alors que les précédents les caressaient dans le sens du poil sans aucun gain !  #BalanceTonPastırma (contre attaque à #BalanceTonPorc)\n",
      "0\n",
      "Label pour le tweet suivant :\n",
      "Un peu d'humour #balancetonporc 😂 https://t.co/eL4JX56m0f\n",
      "2\n",
      "Label pour le tweet suivant :\n",
      "@FanJeanDujardin C bizarre de revoir #OSS117 au Brésil et ses répliques sexistes qq mois après #BalanceTonPorc .. Mais l'humour a tjs raison\n",
      "2\n",
      "Label pour le tweet suivant :\n",
      "#BalanceTonPorc Squeezie avait donc raison\n",
      "2\n",
      "Label pour le tweet suivant :\n",
      "@raphpradeau L'essentiel est qu'on laisse dans l'opacité le #MobbingEducationNationale et les violences sexuelles commises par des principaux et des proviseurs.  #metoo #moiaussi   #PasDeVague #OmertaEducatioNationale  https://t.co/ffGjK9kDQM\n",
      "2\n",
      "Label pour le tweet suivant :\n",
      "#MeToo  À celui qui m'a embrassé et frappé.\n",
      "3\n",
      "Label pour le tweet suivant :\n",
      "Regardez le point de vue de @grosfilley et l'interview d'Anne Morelli, l'une des signataires de la tribune publiée hier dans Le Monde qui dénonce un certain féminisme qui exprimerait \"une certaine haine des hommes\" https://t.co/hxjPAAQ43T #Jour1 #MeToo\n",
      "2\n",
      "Label pour le tweet suivant :\n",
      "RT @hrw au sujet du mouvement #MeToo en #Iran, où des voix s'élèvent pour demander une loi + forte concernant les violences contre les #femmes. https://t.co/W3yVudkzJq\n",
      "2\n",
      "Label pour le tweet suivant :\n",
      "Ta copine de bac à sable t'a volé ta pelle quand t'avais 3 ans? Ta voisine de classe t'a pas laissé copier sur sa dictée? Ta copine t'a quitté alors que vous vous étiez promis l'amour éternel à 14 ans? Défoule toi sur #Balancetapouffe OSEF. Les vrais pb sont là -&gt; #balancetonporc\n",
      "2\n",
      "Label pour le tweet suivant :\n",
      "Ce que #metoo a changé pour les journalistes https://t.co/j1bwq1bcz9\n",
      "1\n",
      "Label pour le tweet suivant :\n",
      "#MetooAmnesie  #metooinceste  Tu aimes ton metier, tu es obligé de t arrêter + de 3 mois car tu as peur, nausée, oppression, panique, flash, non-reconnaissance des gens en crises, concentration faible Et que ce n est pas de TA FAUTE! C est insupportable! SVP, Qui est concerné ?\n",
      "2\n",
      "Label pour le tweet suivant :\n",
      "Le chef du bureau de liaison d’Israël au Maroc dément les accusations d’abus sexuels #metoo https://t.co/TFeRW5lOPH\n",
      "1\n",
      "Label pour le tweet suivant :\n",
      "Même Habillé Avec Une Tunique XXL, Le Pervers Cherchera Toujours A Mater. #BalanceTonPorc\n",
      "3\n",
      "Label pour le tweet suivant :\n",
      "Ensemble, sortons du silence ! Appelez dès maintenant le 0805 802 804 ou le 0800 100 811 depuis l'outre-mer du lundi au vendredi de 10h à 19h. Témoignez pour vous. Témoigner pour les enfants victimes. Témoignez, tout simplement. @CIIVISE_contact  #Metooinceste #ViolenceSexuelles https://t.co/NoJky5WvM4\n",
      "2\n",
      "Label pour le tweet suivant :\n",
      "Grande différence toutefois dans cette édition 2018, qui était davantage placée sous le slogan #MeToo, plutôt que #ResistTrump. https://t.co/9aSHEs85xZ\n",
      "2\n",
      "Label pour le tweet suivant :\n",
      "Via @euronewsfr : Le producteur Harvey Weinstein exclu de l'Académie des Oscars https://t.co/WRV4LYbazT =C’est tout ?#balancetonporc\n",
      "1\n",
      "Label pour le tweet suivant :\n",
      "@AlexDevecchio @PascalPraud le binôme infâme. 2 ideologues d’extreme droite raciste islamophobe. Pas content que ‘les femmes françaises musulmanes n’aient pas utilisé le hashtag #balancetonporc ‘ car elles auraient peur de se faire égorgés: ils sont journalistes, jamais inquiètés https://t.co/C5DtnSXJBb :QT: 🔴🇫🇷#FRANCE : Mensonges d'@AlexDevecchio (journaliste au #Figaro) qui dit, je cite \"elles se font égorgées en bas de leurs cités\".🧐 #Mytho https://t.co/ORqkILKwn8\n",
      "2\n",
      "Label pour le tweet suivant :\n",
      "#MeToo libère la parole en #Egypte où le harcèlement sexuel reste encore tabou, explique le #NobelAlternatif @Mozn https://t.co/lgdzteIrhU\n",
      "1\n",
      "Label pour le tweet suivant :\n",
      "#balancetonporc  #balancetonporc qu'elle ambiance quand les hommes ne feront que rêver au bon vieux temps...\n",
      "2\n",
      "Label pour le tweet suivant :\n",
      "#balancetonporc s'habiller en jean basket ds ton village car du + jeune au +++ âgé tu es un morceau de viande!!! À vomir!\n",
      "3\n",
      "Label pour le tweet suivant :\n",
      "@TheDracerGx et même d’un buddy movie avec Samuel L. Jackson, sur fond de revendications féministes pour marquer un peu plus Hollywood dans l’ère #MeToo.\n",
      "2\n",
      "Label pour le tweet suivant :\n",
      "On ne voit plus jm maire #tpmp petit problème avec #balancetonporc?\n",
      "2\n",
      "Label pour le tweet suivant :\n",
      "Chrronique de @sophiedurocher qui pisse sur le cadavre encore chaud d’un père de 3 enfants.   Sophie veut surtout pas qu’on oublie #metoo dans le cas de Kobe mais elle est beaucoup plus silencieuse sur la cas de l’ami Rozon. Les vacances à Paris ça forge des liens solides. https://t.co/gTXYYtqhR1\n",
      "2\n",
      "Label pour le tweet suivant :\n",
      "#YoutubeusesDay ! Bravo mesdames !!! Svp (et je m'adresse aux femmes un minimum intelligentes). Vs véhiculez une influence sur les jeunes. Pourriez vs faire de la prévention contre la #pedocriminalite dans vos vidéos/reseaux ? @innocencedanger #iwas   https://t.co/1PkpS3jKLJ\n",
      "2\n",
      "Label pour le tweet suivant :\n",
      "celles et ceux qui tweetent sur le #Iwas vous êtes tlmt fort sachez le, vous méritez d’être entendus\n",
      "2\n",
      "Label pour le tweet suivant :\n",
      "Excellente analyse sur le très entendu \"#MeToo c'est bien, mais...\" https://t.co/tQvyCQX4wu\n",
      "2\n",
      "Label pour le tweet suivant :\n",
      "Je rentre dans un magazin le gerant me suit \"pour me parler des produits \"et se met à me toucher les seins #balancetonporc\n",
      "3\n",
      "Label pour le tweet suivant :\n",
      "C'est une agression sexuelle embraser une pets contre son consentement espece de porc @PierreMenes !!! Ça toujours été une agression sexuelle complice infâme @canalplus 🤮🤮🤮🤮 #PierreMenesOut  #balancetonporc https://t.co/uALtjVQpoX :QT: Ah bon j'ai pas le droit de soulever des jupes et d'embrasser des femmes de forces ? Oh la la, le monde a changé ! Gros dégueulasse va 🤮 #TPMP #PierreMenesOut\n",
      "2\n",
      "Label pour le tweet suivant :\n",
      "Marche aussi pour les mecs qui râlent sur #balancetonporc https://t.co/8jj3aTp0mb\n",
      "2\n",
      "Label pour le tweet suivant :\n",
      "Un magnifique projet très bientôt thanks @ambreleguilly thanks @noemie.de.lattre hairstyle and makeup @nallahsangare #feminist #journeeinternationaledesdroitsdesfemmes #metoo #memepaspeur #resilience #sorority #model #ivorycoast #senegal #cotesdarmor #actress #writer #director https://t.co/LCm46glsJI\n",
      "2\n",
      "Label pour le tweet suivant :\n",
      "#joyeusespaques #premieravril #jeremstargates #balancetonporc  #sondage vous faites quoi en premiers quand vous avez un kider surprise(follow,je fais des sondages)\n",
      "0\n",
      "Label pour le tweet suivant :\n",
      "@arthurberdah @ccornevin @AlbertZennou Il faut le stopper lui surtout le caillou dans la chaussure de Macron. À chaque fois qu’il ouvrira la bouche on pensera à ses services rendus contre du sexe. #balancetonporc\n",
      "2\n",
      "Label pour le tweet suivant :\n",
      "Colo kayak, seule fille, une nuit tout le groupe avec les mono, mega groping sur moi dans mon duvet. J'ai jamais rien dit.  #balancetonporc\n",
      "3\n",
      "Label pour le tweet suivant :\n",
      "Bref, cette interview, nécessaire  à mon sens, a conforté mon avis sur cette affaire. Ça n'en fait évidemment pas un coupable, au mieux un mauvais communiquant en revanche. #PPDA #Quotidien @Qofficiel #MeToo\n",
      "2\n",
      "Label pour le tweet suivant :\n",
      "À un moment donné, les réalisateurs tv vont arrêter de faire des plans en contreplongée pour mater sous les jupes des filles ? 🤔 #TPMP #BalanceTonPorc\n",
      "2\n",
      "Label pour le tweet suivant :\n",
      "Certaines ne parlent pas de peur de « détruire la vie » bien en place de bon père de famille inséré de l’agresseur, cela peut peut être paraître étonnant mais c’est un sentiment courant, cela renvoie d’ailleurs aux propos très déplacés qui ont eu cours lors de l’épisode #metoo\n",
      "2\n",
      "Label pour le tweet suivant :\n",
      "@Space_Marcel @RHvitserk @crue_carmen @Le___Doc Ce qu'il faut que vous compreniez c'est le discours féministe. Vous ne reconnaissez pas le système patriarcal dans lequel on vit ni la perspective de genre et forcément, vous ne pouvez avoir aucune compréhension du mouvement #metoo autre que: elles veulent la guerre des sexes\n",
      "2\n",
      "Label pour le tweet suivant :\n",
      "Catherine Deneuve et Brigitte Bardot moquées dans une émission américaine pour leurs positions sur #BalanceTonPorc https://t.co/gBQHbErWkR\n",
      "1\n",
      "Label pour le tweet suivant :\n",
      "Corée du Sud: une irréductible de Samsung est la championne #MeToo https://t.co/JTEMJELsXg\n",
      "1\n",
      "Label pour le tweet suivant :\n",
      "#balancetonporc C'est pas gentil pour les cochons... 🐷🐖\n",
      "2\n",
      "Label pour le tweet suivant :\n",
      "#metoo oops #mytho...\"avant ça passait crème Cyril\" duxit Pierre Menés sur @Cyrilhanouna https://t.co/nx14Rz0ydT :QT: 🇫🇷 FLASH - Pierre #Ménès se défend ce soir dans #TPMP : « Il faut prendre les gens comme ils sont, j'ai été embauché parce que je suis un personnage ». « Si je ne peux plus chambrer une meuf parce que c'est une meuf, c'est insupportable », a-t-il ajouté. (interview) https://t.co/QLeIzByREW\n",
      "2\n",
      "Label pour le tweet suivant :\n",
      "@PCF Pourquoi le parquet / procureur n'a pas poursuivi le violeur ?  Les juges doivent répondre de leurs actes !   #responsabilité #pedocriminalité #metoo #balancetonporc #viols #Gailhaguet #justice\n",
      "2\n",
      "Label pour le tweet suivant :\n",
      "@f_letellier @jeanvaljean2018 @GwennB_ Certes, après, il y a des gens qui se consacrent à plus défendre, les femmes, ou les enfants ou, d autres, des associations qui se dévouent pour leur cause sans pour autant remettre en doute la parole des uns ou des autres comme ça a été le cas pour #MeToo\n",
      "2\n",
      "Label pour le tweet suivant :\n",
      "Le #Iwas il me brise le coeur, vous êtes tous/tes fort(e)s et extrêmement courageux(ses), je vous souhaite le meilleur 🥺❤️\n",
      "2\n",
      "Label pour le tweet suivant :\n",
      "Le poulet a merite les coups de poings qu'il a pris car desole mais on est pas la pour prendre des coups donc ce sera coup pour coup La police a baisser dans l'estime des francais. #libertepourdettinger #balancetonporc\n",
      "2\n",
      "Label pour le tweet suivant :\n",
      "Merci à @AbouDjaffar de RT #balancetonporc, ça m'évite de cliquer sur le hashtag et d'en découvrir encore plus… #nausée\n",
      "2\n",
      "Label pour le tweet suivant :\n",
      "@ta_malou @avec_marine Elle aime les enfants la preuve elle s en es occupé aux lycé de cette nouille de #macron brizitte devrais figuré dans #BalanceTonPorc\n",
      "2\n",
      "Label pour le tweet suivant :\n",
      "A song against Violence / Un titre qui vous prend aux tripes \"Violent &amp; Happy\" de La Nouvelle Eve sur #SoundCloud ? #np https://t.co/FZiTWLPrlZ #violence #violenceconjugale #violenceathome #stayhome #music #resteralamaison #covid #corona #covid19 #bjork #björk #metoo\n",
      "0\n",
      "Label pour le tweet suivant :\n",
      "Les témoignages du #MetooInceste sont juste glaçants. Les prédateurs sexuels ne sont jamais très loin .\n",
      "2\n",
      "Label pour le tweet suivant :\n",
      "Donc le collectif #MeToo démontre sa bêtise abyssale et son manque de discernement. 😉 #QuandOnEstConOnEstCon https://t.co/DUGBqqLgqa\n",
      "2\n",
      "Label pour le tweet suivant :\n",
      "@Lotisauteur @Mediapart Oui. J'ai été contacté pour @BalanceTonPost et @TPMP notament et à l'étranger pour parler de #MeToo. Quand je parlerai, je parlerai aussi de ça\n",
      "2\n",
      "Label pour le tweet suivant :\n",
      "Je viens de l'écouter. Encore une fois, excellente intervention de @Ovidieofficiel qui a raison sur la vraie pollution du débat (plus que nécessaire) ouvert par les #MeToo #Balancetonporc #TIMESUP .  Cette tribune du Monde ne fait que brouiller/salir toute vraie discussion. https://t.co/MVfkNqm3eB\n",
      "2\n",
      "Label pour le tweet suivant :\n",
      "Ce matin, on rigole bien sur FB. Et tout ça avant mon 2e café #metoo #enitalien https://t.co/w6oA8YIHDo\n",
      "0\n",
      "Label pour le tweet suivant :\n",
      "Vatican. La dernière bataille de Benoît XVI - Courrier International Blogs https://t.co/ILVd5Ry3XU #metoo https://t.co/5SoPW4oqaG\n",
      "1\n",
      "Label pour le tweet suivant :\n",
      "#metoo #metooinceste  \"prophet\":  4min24sec, pendant quelques secondes, il est comme De Niro parfois:   COMPLIQUE: je vous ecoute: je vous donne le pouvoir d'etre celui qui DOIT vous ecouter  A 16 ans, mes amis disait que j'etais comme lui dans \"Voyage au bout de l'enfer\",PARFOIS https://t.co/p42cEijVul\n",
      "0\n",
      "Label pour le tweet suivant :\n",
      "Si il est prouvé que Sandra Muller  @LettreAudio  A DE GROS SEINS, il demeure incompréhensible qu'Eric Brion ai eu envie de se taper cette grosse truie #balancetonporc #journeemondialedesanimaux\n",
      "é\n",
      "Label pour le tweet suivant :\n",
      "“En allant vers l'hémicycle,@jeanlassalle m'a mis une main aux fesses.“Julia Castanier se confie. #balancetonporc https://t.co/2ybbTRj5sq\n",
      "1\n",
      "Label pour le tweet suivant :\n",
      "@WiretteNicorett @fabfluckiger Quand tu dis que ça se travaille, à quel degré il est nécessaire de commencer un traitement ? Et avec qui ?  #MeToo\n",
      "2\n",
      "Label pour le tweet suivant :\n",
      "Quand on te demande ton 06 dans la rue, que tu déclines ou ignores pour finalement te faire insulter de pute... 😩 #balancetonporc\n",
      "3\n",
      "Label pour le tweet suivant :\n",
      "À 21h, le #doc « Beauvoir, l’aventure d’être soi »  👩‍🏫 À l’heure des débats sur la domination masculine, la charge mentale, #MeToo, quelle est la modernité de Simone de Beauvoir ?  👉 Avec Leïla Slimani, Elisabeth Badinter et @titiou Lecoq  Réal Fabrice Gardel et @MathieuWeschler https://t.co/laqKrJzFBi\n",
      "2\n",
      "Label pour le tweet suivant :\n",
      "Nouvelle plainte pour #viol contre #Tariqramadan #Ramadan #balancetonporc https://t.co/GMJT3S1oBM\n",
      "2\n",
      "Label pour le tweet suivant :\n",
      "Donc chacun ne voit pas la même chose concernant 1er moitié du James Bond et deuxième moitié du film loque humaine merci #metoo https://t.co/3PLromOFdX\n",
      "2\n",
      "Label pour le tweet suivant :\n",
      "@Bloom12005028 Formidable merci. Oui il faut impérativement tout faire pour réformer la législation sur le #viol au #Japon qui déjà n'avait pas été modifiée, il y a peu, depuis 110 ans... #Scandale #MeToo\n",
      "2\n",
      "Label pour le tweet suivant :\n",
      "Le cas Aziz Ansari questionne intelligemment le mouvement #MeToo https://t.co/XWWojlDtJ2 https://t.co/hpL0NMZqwd\n",
      "1\n",
      "Label pour le tweet suivant :\n",
      "@CNEWS @angele_vl Une vraie rebelle cette meuf ! 😆 Chanson sur #balancetonporc pr surfer sur la vague, chanson sur le réchauffement en pleine canicule wow. J'annonce un prochain titre sur la pêche au homard et sur les vignettes Crit'Air mdrrr #risquezéro\n",
      "2\n",
      "Label pour le tweet suivant :\n",
      "\"Preuve que les questions liées aux femmes ont dominé l’année, les mots-clefs les plus utilisés sur Twitter en 2018 place « school #MeToo », « feminist » et « molka »\".  Cet article date d'il y a un an, qu'en est-il pour 2019? 🤔 #digipolUCLouvain https://t.co/FEyFo3NoDW\n",
      "2\n",
      "Label pour le tweet suivant :\n",
      "#balancetonporc ce soir dans dernière minute\n",
      "2\n",
      "Label pour le tweet suivant :\n",
      "#Gilead ne lâche pas l’affaire contre @raoult_didier  Ça fait pls mois que c un feu roulant continu. Mais un truc comme ça garantit des dommages collatéraux ou alors il faudra un tri sélectif des dénonciations anonymes (DAs). Après les #metoo, Les DAs sont maintenant la norme. 🥶 https://t.co/U9MZGxZ56K :QT: Dites-moi que c'est un fake! https://t.co/EM3WkFHBqo Y aurait-il des fonctionnaires visant des promotions en essayant de se faire bien voir en incitant à la délation.Opposer médecins et pharmaciens, pas forcément une stratégie gagnante, et en tout cas pas au service des patients. https://t.co/ikc6v1MHSX\n",
      "0\n",
      "Label pour le tweet suivant :\n",
      "#Iwas 15, 16, 17, deux fois le même gros connard\n",
      "3\n",
      "Label pour le tweet suivant :\n",
      "2.2- #metoo #metooinceste   NOTES PÉDOPHILES  Il a fallu que je me débarrasse de le personne qui a peut-être le plus de nonSoi que je connaisse et qui me pose beaucoup trop de problème: j'ai démonté son ramassis de prétention et d'apparences ridicules.\n",
      "2\n",
      "Label pour le tweet suivant :\n",
      "Agression et harcèlement sexuels: le photographe star Patrick Demarchelier accusé, Anna Wintour mise en cause https://t.co/4Z3wnQTXWy #metoo #Demarchelier #Wintour https://t.co/M2Kbd93WtK\n",
      "1\n",
      "Label pour le tweet suivant :\n",
      "Un an après #MeToo, retrouvons-nous pour dire 🛑 STOP aux violences  sexistes et sexuelles. RDV samedi 29 septembre, à 14h30, place de la  République, pour un die-in géant.  📅 Événement Facebook : https://t.co/eVUsV1tczD 👉 Inscriptions : https://t.co/y0dJaQCalu https://t.co/gNnUP7YzXt\n",
      "2\n",
      "Label pour le tweet suivant :\n",
      "#balancetonporc, ça balance pas mal à Paris, ça balance pas mâle… https://t.co/EFyUSn9Pf8 https://t.co/LlpDsgYjbH\n",
      "1\n",
      "Label pour le tweet suivant :\n",
      "J'avais 2 ans. C'était le fils d'un ami de la famille : il en avait entre 11 et 13. Je l'ai recroisé il y a 3 ans : il a maintenant 40 ans et m'a regardé en mode \"tu te souviens\" avec son regard de pervers.  J'ai porté la culpabilité de son acte pendant 30 ans. #metooinceste\n",
      "3\n",
      "Label pour le tweet suivant :\n",
      "Avec mon bébé de 8 mois dans son landeau.Un type approche:c'est une fille ou un garçon? Moi:une fille.Lui:une future suceuse #balancetonporc\n",
      "3\n",
      "Label pour le tweet suivant :\n",
      "Le prêtre de Trois-Rivières a tenté de mettre fin à ses jours - RCI https://t.co/8Zsk7oQnz9 #metoo https://t.co/r0dkl00Pla\n",
      "1\n",
      "Label pour le tweet suivant :\n",
      "Des suffragettes à #MeToo : le violet, couleur iconique des mouvements féministes https://t.co/Jeu0Cb216y @letemps #soc\n",
      "1\n",
      "Label pour le tweet suivant :\n",
      "#Metoo Les féministes radicales de gauche de plus en plus critiquées par des...féministes....https://t.co/hQLAbzqHDg via @lp_lapresse\n",
      "1\n",
      "Label pour le tweet suivant :\n",
      "@YannisPSD @_Ecce__Homo_ @MarleneSchiappa \"#Sénégal🇸🇳 : #Macron🇫🇷 et #Rihanna saluent un nouvel élan pour l’éducation\"  #Schiappa @Elysee #BrigitteMacron #France #Paris #LREM #EnMarche #LaREM #BalanceTonPorc https://t.co/BPJXRAnkNa\n",
      "2\n",
      "Label pour le tweet suivant :\n",
      "Hanouna avec capu anav et lors de l’entretien d embauche d enora #balancetonporc@hanouna@c8\n",
      "2\n",
      "Label pour le tweet suivant :\n",
      "🔴Notre tribune dans @libe  ➡️\"Violences Sexuelles sur mineur.e.s : l’heure de la tolérance zéro a sonné\"🔔   #justicepourjulie #metooinceste  Avec @memoiretrauma @MiKohiyama @AndreaBescond @Abitbol_sarah @corinne_leriche @aludv P. É. Germain Thill  📌 https://t.co/tSxr6LHm28 https://t.co/qpTnlxJ2BS\n",
      "2\n",
      "Label pour le tweet suivant :\n",
      "https://t.co/Ezz6jd3MjO Oui je l'adore 💙🎵🎶 Je ne suis pas #MeToo https://t.co/QTzSFXWAFH\n",
      "1\n",
      "Label pour le tweet suivant :\n",
      "@MiKohiyama Pas que dans le sport, pas que dans le cinéma, les porcs ne sont pas tous sous les projecteurs mais ils sont partout dans nos vies de tous les jours, tout près et les victimes aussi...😢#metoo\n",
      "2\n",
      "Label pour le tweet suivant :\n",
      "Pourquoi certaines enquêtes sont-elles d'utilité publique ? Pour que des anonymes ne s'autorisent plus de traiter des victimes potentielles de \"femelles\" hystériques. Les enquêtes permettent d'ouvrir des enquêtes, qui démontrerons ou non la culpabilité ou l'innocence. #MeToo https://t.co/06RIyrKGBG\n",
      "2\n",
      "Label pour le tweet suivant :\n",
      "Bordel j'suis dans l'EHPAD de mon grand-père.. putain si les soignantes participaient au hashtag #balancetonporc mdddddr ça aurait saturer Twitter\n",
      "2\n",
      "Label pour le tweet suivant :\n",
      "#événement Réputation Time 2017 : du tweet #balancetonporc à la couverture du Elle, anatomie d’une levée de boucliers généralisée. C'est demain avec @annatwit #RepTime2017  En savoir plus &gt; https://t.co/Z0nGlUq457  Programme et inscription &gt; https://t.co/gP3b4GM9CP https://t.co/V6BsQrFcnR\n",
      "2\n"
     ]
    }
   ],
   "source": [
    "labeliser_tweet(df, nb_tweets=100, random_state = 25)"
   ]
  },
  {
   "cell_type": "code",
   "execution_count": 63,
   "metadata": {
    "id": "jAyzaJ5875dw",
    "tags": []
   },
   "outputs": [],
   "source": [
    "df_label = pd.read_csv('label.csv')"
   ]
  },
  {
   "cell_type": "code",
   "execution_count": 64,
   "metadata": {
    "tags": []
   },
   "outputs": [],
   "source": [
    "df_label = df_label.dropna()"
   ]
  },
  {
   "cell_type": "code",
   "execution_count": 65,
   "metadata": {
    "tags": []
   },
   "outputs": [],
   "source": [
    "df_label = df_label.drop(1979)\n"
   ]
  },
  {
   "cell_type": "code",
   "execution_count": 66,
   "metadata": {
    "tags": []
   },
   "outputs": [
    {
     "name": "stdout",
     "output_type": "stream",
     "text": [
      "Il n'y a pas de chaînes de caractères avec des lettres dans la colonne 'label'.\n"
     ]
    }
   ],
   "source": [
    "import re\n",
    "# Filtrer les chaînes de caractères contenant des lettres dans la colonne \"label\"\n",
    "has_strings = df_label['label'].apply(lambda x: bool(re.search('[a-zA-Z]', str(x))))\n",
    "\n",
    "if has_strings.any():\n",
    "    # Supprimer les lignes contenant des chaînes de caractères avec des lettres dans la colonne \"label\"\n",
    "    df_label = df_label[~has_strings]\n",
    "    print(\"Les lignes contenant des chaînes de caractères avec des lettres ont été supprimées.\")\n",
    "else:\n",
    "    print(\"Il n'y a pas de chaînes de caractères avec des lettres dans la colonne 'label'.\")\n"
   ]
  },
  {
   "cell_type": "code",
   "execution_count": 67,
   "metadata": {
    "tags": []
   },
   "outputs": [],
   "source": [
    "df_label.label = [int(label) for label in df_label.label]\n"
   ]
  },
  {
   "cell_type": "code",
   "execution_count": 68,
   "metadata": {
    "colab": {
     "base_uri": "https://localhost:8080/",
     "height": 519
    },
    "id": "mRUK1kmZ7_z8",
    "outputId": "78d2f214-ea47-47f1-d388-9679b8d6d384",
    "tags": []
   },
   "outputs": [
    {
     "data": {
      "text/plain": [
       "label\n",
       "2    1331\n",
       "1     412\n",
       "3     182\n",
       "0      81\n",
       "Name: count, dtype: int64"
      ]
     },
     "execution_count": 68,
     "metadata": {},
     "output_type": "execute_result"
    }
   ],
   "source": [
    "df_label.label.value_counts()"
   ]
  },
  {
   "cell_type": "code",
   "execution_count": 69,
   "metadata": {
    "id": "hnt-ro2_WpXz",
    "tags": []
   },
   "outputs": [],
   "source": [
    "# Defining constants\n",
    "epochs = 50\n",
    "MAX_LEN = 300\n",
    "batch_size = 64\n",
    "device = torch.device('cuda' if torch.cuda.is_available() else 'cpu')"
   ]
  },
  {
   "cell_type": "code",
   "execution_count": 70,
   "metadata": {
    "id": "-JvbX630WUHn",
    "tags": []
   },
   "outputs": [],
   "source": [
    "tokenizer = CamembertTokenizer.from_pretrained('camembert-base')"
   ]
  },
  {
   "cell_type": "code",
   "execution_count": 71,
   "metadata": {
    "tags": []
   },
   "outputs": [
    {
     "name": "stderr",
     "output_type": "stream",
     "text": [
      "Some weights of the model checkpoint at camembert-base were not used when initializing CamembertForSequenceClassification: ['lm_head.layer_norm.weight', 'lm_head.bias', 'roberta.pooler.dense.bias', 'roberta.pooler.dense.weight', 'lm_head.dense.weight', 'lm_head.decoder.weight', 'lm_head.dense.bias', 'lm_head.layer_norm.bias']\n",
      "- This IS expected if you are initializing CamembertForSequenceClassification from the checkpoint of a model trained on another task or with another architecture (e.g. initializing a BertForSequenceClassification model from a BertForPreTraining model).\n",
      "- This IS NOT expected if you are initializing CamembertForSequenceClassification from the checkpoint of a model that you expect to be exactly identical (initializing a BertForSequenceClassification model from a BertForSequenceClassification model).\n",
      "Some weights of CamembertForSequenceClassification were not initialized from the model checkpoint at camembert-base and are newly initialized: ['classifier.out_proj.weight', 'classifier.dense.bias', 'classifier.dense.weight', 'classifier.out_proj.bias']\n",
      "You should probably TRAIN this model on a down-stream task to be able to use it for predictions and inference.\n"
     ]
    },
    {
     "data": {
      "text/plain": [
       "CamembertForSequenceClassification(\n",
       "  (roberta): CamembertModel(\n",
       "    (embeddings): CamembertEmbeddings(\n",
       "      (word_embeddings): Embedding(32005, 768, padding_idx=1)\n",
       "      (position_embeddings): Embedding(514, 768, padding_idx=1)\n",
       "      (token_type_embeddings): Embedding(1, 768)\n",
       "      (LayerNorm): LayerNorm((768,), eps=1e-05, elementwise_affine=True)\n",
       "      (dropout): Dropout(p=0.1, inplace=False)\n",
       "    )\n",
       "    (encoder): CamembertEncoder(\n",
       "      (layer): ModuleList(\n",
       "        (0-11): 12 x CamembertLayer(\n",
       "          (attention): CamembertAttention(\n",
       "            (self): CamembertSelfAttention(\n",
       "              (query): Linear(in_features=768, out_features=768, bias=True)\n",
       "              (key): Linear(in_features=768, out_features=768, bias=True)\n",
       "              (value): Linear(in_features=768, out_features=768, bias=True)\n",
       "              (dropout): Dropout(p=0.1, inplace=False)\n",
       "            )\n",
       "            (output): CamembertSelfOutput(\n",
       "              (dense): Linear(in_features=768, out_features=768, bias=True)\n",
       "              (LayerNorm): LayerNorm((768,), eps=1e-05, elementwise_affine=True)\n",
       "              (dropout): Dropout(p=0.1, inplace=False)\n",
       "            )\n",
       "          )\n",
       "          (intermediate): CamembertIntermediate(\n",
       "            (dense): Linear(in_features=768, out_features=3072, bias=True)\n",
       "            (intermediate_act_fn): GELUActivation()\n",
       "          )\n",
       "          (output): CamembertOutput(\n",
       "            (dense): Linear(in_features=3072, out_features=768, bias=True)\n",
       "            (LayerNorm): LayerNorm((768,), eps=1e-05, elementwise_affine=True)\n",
       "            (dropout): Dropout(p=0.1, inplace=False)\n",
       "          )\n",
       "        )\n",
       "      )\n",
       "    )\n",
       "  )\n",
       "  (classifier): CamembertClassificationHead(\n",
       "    (dense): Linear(in_features=768, out_features=768, bias=True)\n",
       "    (dropout): Dropout(p=0.1, inplace=False)\n",
       "    (out_proj): Linear(in_features=768, out_features=4, bias=True)\n",
       "  )\n",
       ")"
      ]
     },
     "execution_count": 71,
     "metadata": {},
     "output_type": "execute_result"
    }
   ],
   "source": [
    "model = CamembertForSequenceClassification.from_pretrained(\"camembert-base\", num_labels=4)\n",
    "model.to(device)"
   ]
  },
  {
   "cell_type": "code",
   "execution_count": 72,
   "metadata": {
    "tags": []
   },
   "outputs": [
    {
     "name": "stderr",
     "output_type": "stream",
     "text": [
      "/opt/mamba/lib/python3.10/site-packages/transformers/optimization.py:391: FutureWarning: This implementation of AdamW is deprecated and will be removed in a future version. Use the PyTorch implementation torch.optim.AdamW instead, or set `no_deprecation_warning=True` to disable this warning\n",
      "  warnings.warn(\n"
     ]
    }
   ],
   "source": [
    "optimizer = AdamW(model.parameters(), lr=2e-5, eps=10e-8)"
   ]
  },
  {
   "cell_type": "code",
   "execution_count": 73,
   "metadata": {
    "colab": {
     "base_uri": "https://localhost:8080/",
     "height": 502
    },
    "id": "cQS2l-oQZwmL",
    "outputId": "ab347867-6f13-41ee-9457-1ea3ef877c2f",
    "tags": []
   },
   "outputs": [
    {
     "name": "stderr",
     "output_type": "stream",
     "text": [
      "Truncation was not explicitly activated but `max_length` is provided a specific value, please use `truncation=True` to explicitly truncate examples to max length. Defaulting to 'longest_first' truncation strategy. If you encode pairs of sequences (GLUE-style) with the tokenizer you can select this strategy more precisely by providing a specific strategy to `truncation`.\n"
     ]
    }
   ],
   "source": [
    "text = df_label['text'].to_list()\n",
    "labels = df_label['label'].to_list()\n",
    "\n",
    "#user tokenizer to convert sentences into tokenizer\n",
    "input_ids  = [tokenizer.encode(sent,add_special_tokens=True,max_length=MAX_LEN) for sent in text]\n",
    "\n",
    "# Pad our input tokens\n",
    "input_ids = pad_sequences(input_ids, maxlen=MAX_LEN, dtype=\"long\", truncating=\"post\", padding=\"post\")\n",
    "\n",
    "# Create attention masks\n",
    "attention_masks = []\n",
    "# Create a mask of 1s for each token followed by 0s for padding\n",
    "for seq in input_ids:\n",
    "    seq_mask = [float(i>0) for i in seq]  \n",
    "    attention_masks.append(seq_mask)"
   ]
  },
  {
   "cell_type": "code",
   "execution_count": 74,
   "metadata": {
    "colab": {
     "base_uri": "https://localhost:8080/",
     "height": 253
    },
    "id": "Ge4RCSKcZztV",
    "outputId": "47bd58fd-bb54-45c5-b011-e4af769fcee9",
    "tags": []
   },
   "outputs": [],
   "source": [
    "train_inputs, validation_inputs, train_labels, validation_labels, train_masks, validation_masks = train_test_split(input_ids, labels, attention_masks,\n",
    "                                                            random_state=42, test_size=0.4, stratify = labels)\n",
    "\n",
    "# Convert all of our data into torch tensors, the required datatype for our model\n",
    "train_inputs = torch.tensor(train_inputs)\n",
    "validation_inputs = torch.tensor(validation_inputs)\n",
    "train_labels = torch.tensor(train_labels)\n",
    "validation_labels = torch.tensor(validation_labels)\n",
    "train_masks = torch.tensor(train_masks)\n",
    "validation_masks = torch.tensor(validation_masks)\n",
    "\n",
    "train_data = TensorDataset(train_inputs, train_masks, train_labels)\n",
    "train_sampler = RandomSampler(train_data)\n",
    "train_dataloader = DataLoader(train_data, sampler=train_sampler, batch_size=batch_size)\n",
    "\n",
    "validation_data = TensorDataset(validation_inputs, validation_masks, validation_labels)\n",
    "validation_sampler = SequentialSampler(validation_data)\n",
    "validation_dataloader = DataLoader(validation_data, sampler=validation_sampler, batch_size=batch_size)"
   ]
  },
  {
   "cell_type": "code",
   "execution_count": 75,
   "metadata": {
    "tags": []
   },
   "outputs": [],
   "source": [
    "def flat_accuracy(preds, labels):\n",
    "    pred_flat = np.argmax(preds, axis=1).flatten()\n",
    "    labels_flat = labels.flatten()\n",
    "    return np.sum(pred_flat == labels_flat) / len(labels_flat)"
   ]
  },
  {
   "cell_type": "code",
   "execution_count": 17,
   "metadata": {
    "tags": []
   },
   "outputs": [
    {
     "name": "stderr",
     "output_type": "stream",
     "text": [
      "Epoch:   0%|          | 0/50 [00:00<?, ?it/s]"
     ]
    },
    {
     "name": "stdout",
     "output_type": "stream",
     "text": [
      "Train loss: 0.9748553665060746\n"
     ]
    },
    {
     "name": "stderr",
     "output_type": "stream",
     "text": [
      "Epoch:   2%|▏         | 1/50 [05:49<4:45:30, 349.60s/it]"
     ]
    },
    {
     "name": "stdout",
     "output_type": "stream",
     "text": [
      "Validation Accuracy: 0.6665178571428572\n",
      "Train loss: 0.8132788131111547\n"
     ]
    },
    {
     "name": "stderr",
     "output_type": "stream",
     "text": [
      "Epoch:   4%|▍         | 2/50 [12:09<4:54:09, 367.69s/it]"
     ]
    },
    {
     "name": "stdout",
     "output_type": "stream",
     "text": [
      "Validation Accuracy: 0.7814903846153847\n",
      "Train loss: 0.636475898717579\n"
     ]
    },
    {
     "name": "stderr",
     "output_type": "stream",
     "text": [
      "Epoch:   6%|▌         | 3/50 [19:07<5:05:42, 390.26s/it]"
     ]
    },
    {
     "name": "stdout",
     "output_type": "stream",
     "text": [
      "Validation Accuracy: 0.832760989010989\n",
      "Train loss: 0.504281925527673\n"
     ]
    },
    {
     "name": "stderr",
     "output_type": "stream",
     "text": [
      "Epoch:   8%|▊         | 4/50 [25:38<4:59:30, 390.66s/it]"
     ]
    },
    {
     "name": "stdout",
     "output_type": "stream",
     "text": [
      "Validation Accuracy: 0.8774038461538461\n",
      "Train loss: 0.39367974118182536\n"
     ]
    },
    {
     "name": "stderr",
     "output_type": "stream",
     "text": [
      "Epoch:  10%|█         | 5/50 [32:15<4:54:46, 393.04s/it]"
     ]
    },
    {
     "name": "stdout",
     "output_type": "stream",
     "text": [
      "Validation Accuracy: 0.8393543956043956\n",
      "Train loss: 0.32853785941475316\n"
     ]
    },
    {
     "name": "stderr",
     "output_type": "stream",
     "text": [
      "Epoch:  12%|█▏        | 6/50 [38:56<4:50:15, 395.81s/it]"
     ]
    },
    {
     "name": "stdout",
     "output_type": "stream",
     "text": [
      "Validation Accuracy: 0.860989010989011\n",
      "Train loss: 0.27336769041262177\n"
     ]
    },
    {
     "name": "stderr",
     "output_type": "stream",
     "text": [
      "Epoch:  14%|█▍        | 7/50 [45:21<4:41:03, 392.18s/it]"
     ]
    },
    {
     "name": "stdout",
     "output_type": "stream",
     "text": [
      "Validation Accuracy: 0.8718063186813187\n",
      "Train loss: 0.23118420023667186\n"
     ]
    },
    {
     "name": "stderr",
     "output_type": "stream",
     "text": [
      "Epoch:  16%|█▌        | 8/50 [51:37<4:30:57, 387.08s/it]"
     ]
    },
    {
     "name": "stdout",
     "output_type": "stream",
     "text": [
      "Validation Accuracy: 0.8882211538461539\n",
      "Train loss: 0.207986234050048\n"
     ]
    },
    {
     "name": "stderr",
     "output_type": "stream",
     "text": [
      "Epoch:  18%|█▊        | 9/50 [58:02<4:23:58, 386.31s/it]"
     ]
    },
    {
     "name": "stdout",
     "output_type": "stream",
     "text": [
      "Validation Accuracy: 0.8762019230769231\n",
      "Train loss: 0.17864405167730232\n"
     ]
    },
    {
     "name": "stderr",
     "output_type": "stream",
     "text": [
      "Epoch:  20%|██        | 10/50 [1:04:24<4:16:40, 385.01s/it]"
     ]
    },
    {
     "name": "stdout",
     "output_type": "stream",
     "text": [
      "Validation Accuracy: 0.8573832417582418\n",
      "Train loss: 0.14990130459007464\n"
     ]
    },
    {
     "name": "stderr",
     "output_type": "stream",
     "text": [
      "Epoch:  22%|██▏       | 11/50 [1:10:39<4:08:20, 382.05s/it]"
     ]
    },
    {
     "name": "stdout",
     "output_type": "stream",
     "text": [
      "Validation Accuracy: 0.8657967032967033\n",
      "Train loss: 0.14182989220870168\n"
     ]
    },
    {
     "name": "stderr",
     "output_type": "stream",
     "text": [
      "Epoch:  24%|██▍       | 12/50 [1:17:14<4:04:27, 385.98s/it]"
     ]
    },
    {
     "name": "stdout",
     "output_type": "stream",
     "text": [
      "Validation Accuracy: 0.8918269230769231\n",
      "Train loss: 0.1237568037682458\n",
      "Train loss: 0.10782157904223393\n"
     ]
    },
    {
     "name": "stderr",
     "output_type": "stream",
     "text": [
      "Epoch:  28%|██▊       | 14/50 [1:29:59<3:50:10, 383.63s/it]"
     ]
    },
    {
     "name": "stdout",
     "output_type": "stream",
     "text": [
      "Validation Accuracy: 0.8657967032967033\n",
      "Train loss: 0.11725765270622153\n"
     ]
    },
    {
     "name": "stderr",
     "output_type": "stream",
     "text": [
      "Epoch:  30%|███       | 15/50 [1:35:32<3:34:52, 368.35s/it]"
     ]
    },
    {
     "name": "stdout",
     "output_type": "stream",
     "text": [
      "Validation Accuracy: 0.8778159340659341\n",
      "Train loss: 0.11720255762338638\n"
     ]
    },
    {
     "name": "stderr",
     "output_type": "stream",
     "text": [
      "Epoch:  32%|███▏      | 16/50 [1:42:14<3:34:30, 378.54s/it]"
     ]
    },
    {
     "name": "stdout",
     "output_type": "stream",
     "text": [
      "Validation Accuracy: 0.817135989010989\n",
      "Train loss: 0.10115535459236095\n"
     ]
    },
    {
     "name": "stderr",
     "output_type": "stream",
     "text": [
      "Epoch:  32%|███▏      | 16/50 [1:48:49<3:51:15, 408.11s/it]"
     ]
    },
    {
     "name": "stdout",
     "output_type": "stream",
     "text": [
      "Validation Accuracy: 0.8740041208791209\n",
      "Early stopping! No improvement in validation loss for 10 consecutive epochs.\n"
     ]
    },
    {
     "name": "stderr",
     "output_type": "stream",
     "text": [
      "\n"
     ]
    }
   ],
   "source": [
    "train_loss_set = []\n",
    "best_validation_loss = float('inf')\n",
    "epochs_no_improve = 0  # nombre d'epochs consécutives sans amélioration de la validation\n",
    "best_model = None  # stockage du meilleur modèle\n",
    "for epoch in trange(epochs, desc=\"Epoch\"):\n",
    "    tr_loss = 0\n",
    "    nb_tr_examples, nb_tr_steps = 0, 0\n",
    "  \n",
    "    # Train the model\n",
    "    model.train()\n",
    "    for step, batch in enumerate(train_dataloader):\n",
    "        batch = tuple(t.to(device) for t in batch)\n",
    "        b_input_ids, b_input_mask, b_labels = batch\n",
    "        optimizer.zero_grad()\n",
    "        outputs = model(b_input_ids, token_type_ids=None, attention_mask=b_input_mask, labels=b_labels.long())\n",
    "        loss = outputs[0]\n",
    "        train_loss_set.append(loss.item())    \n",
    "        loss.backward()\n",
    "        optimizer.step()\n",
    "        tr_loss += loss.item()\n",
    "        nb_tr_examples += b_input_ids.size(0)\n",
    "        nb_tr_steps += 1\n",
    "\n",
    "    print(\"Train loss: {}\".format(tr_loss/nb_tr_steps))\n",
    "\n",
    "    # Evaluate on validation data\n",
    "    model.eval()\n",
    "    eval_loss, eval_accuracy = 0, 0\n",
    "    nb_eval_steps, nb_eval_examples = 0, 0\n",
    "    with torch.no_grad():\n",
    "        for batch in validation_dataloader:\n",
    "            batch = tuple(t.to(device) for t in batch)\n",
    "            b_input_ids, b_input_mask, b_labels = batch\n",
    "            outputs = model(b_input_ids, token_type_ids=None, attention_mask=b_input_mask, labels=b_labels.long())\n",
    "            tmp_eval_loss, logits = outputs[:2]\n",
    "    \n",
    "            logits = logits.detach().cpu().numpy()\n",
    "            label_ids = b_labels.to('cpu').numpy()\n",
    "\n",
    "            tmp_eval_accuracy = flat_accuracy(logits, label_ids)\n",
    "    \n",
    "            eval_loss += tmp_eval_loss.mean().item()\n",
    "            eval_accuracy += tmp_eval_accuracy\n",
    "\n",
    "            nb_eval_examples += b_input_ids.size(0)\n",
    "            nb_eval_steps += 1\n",
    "\n",
    "    print(\"Validation Accuracy: {}\".format(eval_accuracy/nb_eval_steps))\n",
    "\n",
    "    # Check for early stopping\n",
    "    validation_loss = eval_loss/nb_eval_steps\n",
    "    if validation_loss < best_validation_loss - 0.01:\n",
    "        best_validation_loss = validation_loss\n",
    "        epochs_no_improve = 0\n",
    "\n",
    "        # Enregistrer le meilleur modèle\n",
    "        best_model = model.state_dict()\n",
    "    else:\n",
    "        epochs_no_improve += 1\n",
    "\n",
    "    if epochs_no_improve == 10:\n",
    "        print(\"Early stopping! No improvement in validation loss for 10 consecutive epochs.\")\n",
    "        break\n",
    "\n",
    "# Enregistrer le meilleur modèle sur le disque\n",
    "if best_model is not None:\n",
    "    torch.save(best_model, \"best_model.pth\")\n"
   ]
  },
  {
   "cell_type": "code",
   "execution_count": 82,
   "metadata": {
    "tags": []
   },
   "outputs": [],
   "source": [
    "torch.save(\"best_model.pth\", \"classif_model.pth\")"
   ]
  },
  {
   "cell_type": "code",
   "execution_count": 76,
   "metadata": {
    "tags": []
   },
   "outputs": [
    {
     "name": "stderr",
     "output_type": "stream",
     "text": [
      "Some weights of the model checkpoint at camembert-base were not used when initializing CamembertForSequenceClassification: ['lm_head.layer_norm.weight', 'lm_head.bias', 'roberta.pooler.dense.bias', 'roberta.pooler.dense.weight', 'lm_head.dense.weight', 'lm_head.decoder.weight', 'lm_head.dense.bias', 'lm_head.layer_norm.bias']\n",
      "- This IS expected if you are initializing CamembertForSequenceClassification from the checkpoint of a model trained on another task or with another architecture (e.g. initializing a BertForSequenceClassification model from a BertForPreTraining model).\n",
      "- This IS NOT expected if you are initializing CamembertForSequenceClassification from the checkpoint of a model that you expect to be exactly identical (initializing a BertForSequenceClassification model from a BertForSequenceClassification model).\n",
      "Some weights of CamembertForSequenceClassification were not initialized from the model checkpoint at camembert-base and are newly initialized: ['classifier.out_proj.weight', 'classifier.dense.bias', 'classifier.dense.weight', 'classifier.out_proj.bias']\n",
      "You should probably TRAIN this model on a down-stream task to be able to use it for predictions and inference.\n"
     ]
    },
    {
     "data": {
      "text/plain": [
       "CamembertForSequenceClassification(\n",
       "  (roberta): CamembertModel(\n",
       "    (embeddings): CamembertEmbeddings(\n",
       "      (word_embeddings): Embedding(32005, 768, padding_idx=1)\n",
       "      (position_embeddings): Embedding(514, 768, padding_idx=1)\n",
       "      (token_type_embeddings): Embedding(1, 768)\n",
       "      (LayerNorm): LayerNorm((768,), eps=1e-05, elementwise_affine=True)\n",
       "      (dropout): Dropout(p=0.1, inplace=False)\n",
       "    )\n",
       "    (encoder): CamembertEncoder(\n",
       "      (layer): ModuleList(\n",
       "        (0-11): 12 x CamembertLayer(\n",
       "          (attention): CamembertAttention(\n",
       "            (self): CamembertSelfAttention(\n",
       "              (query): Linear(in_features=768, out_features=768, bias=True)\n",
       "              (key): Linear(in_features=768, out_features=768, bias=True)\n",
       "              (value): Linear(in_features=768, out_features=768, bias=True)\n",
       "              (dropout): Dropout(p=0.1, inplace=False)\n",
       "            )\n",
       "            (output): CamembertSelfOutput(\n",
       "              (dense): Linear(in_features=768, out_features=768, bias=True)\n",
       "              (LayerNorm): LayerNorm((768,), eps=1e-05, elementwise_affine=True)\n",
       "              (dropout): Dropout(p=0.1, inplace=False)\n",
       "            )\n",
       "          )\n",
       "          (intermediate): CamembertIntermediate(\n",
       "            (dense): Linear(in_features=768, out_features=3072, bias=True)\n",
       "            (intermediate_act_fn): GELUActivation()\n",
       "          )\n",
       "          (output): CamembertOutput(\n",
       "            (dense): Linear(in_features=3072, out_features=768, bias=True)\n",
       "            (LayerNorm): LayerNorm((768,), eps=1e-05, elementwise_affine=True)\n",
       "            (dropout): Dropout(p=0.1, inplace=False)\n",
       "          )\n",
       "        )\n",
       "      )\n",
       "    )\n",
       "  )\n",
       "  (classifier): CamembertClassificationHead(\n",
       "    (dense): Linear(in_features=768, out_features=768, bias=True)\n",
       "    (dropout): Dropout(p=0.1, inplace=False)\n",
       "    (out_proj): Linear(in_features=768, out_features=4, bias=True)\n",
       "  )\n",
       ")"
      ]
     },
     "execution_count": 76,
     "metadata": {},
     "output_type": "execute_result"
    }
   ],
   "source": [
    "model = CamembertForSequenceClassification.from_pretrained(\"camembert-base\", num_labels=4)\n",
    "model.load_state_dict(torch.load(\"best_model.pth\"))\n",
    "model.eval()\n"
   ]
  },
  {
   "cell_type": "code",
   "execution_count": 77,
   "metadata": {
    "tags": []
   },
   "outputs": [],
   "source": [
    "def predict(model, dataloader):\n",
    "    # mettre le modèle en mode d'évaluation\n",
    "    model.eval()\n",
    "    \n",
    "    # stocker les prédictions de tous les batchs dans une liste\n",
    "    predictions = []\n",
    "    \n",
    "    # boucle sur les batches dans le dataloader de test\n",
    "    for batch in dataloader:\n",
    "        \n",
    "        # déplacer les données sur le même dispositif que le modèle\n",
    "        batch = tuple(t.to(device) for t in batch)\n",
    "        b_input_ids, b_input_mask, b_labels = batch\n",
    "        \n",
    "        # désactiver le calcul des gradients pour économiser de la mémoire et accélérer les calculs\n",
    "        with torch.no_grad():\n",
    "            # faire passer les données à travers le modèle pour obtenir les logits\n",
    "            outputs =  model(b_input_ids, token_type_ids=None, attention_mask=b_input_mask)\n",
    "            logits = outputs[0]\n",
    "    \n",
    "        # appliquer la fonction softmax pour obtenir les probabilités pour chaque classe\n",
    "        probs = F.softmax(logits, dim=-1)\n",
    "        \n",
    "        # convertir les probabilités en prédictions en prenant l'indice de la classe avec la probabilité la plus élevée\n",
    "        batch_preds = torch.argmax(probs, dim=1)\n",
    "        \n",
    "        # ajouter les prédictions pour ce batch à la liste de prédictions globale\n",
    "        predictions.extend(batch_preds.cpu().numpy().tolist())\n",
    "    \n",
    "    # retourner la liste de prédictions globale\n",
    "    return predictions\n"
   ]
  },
  {
   "cell_type": "code",
   "execution_count": 78,
   "metadata": {
    "tags": []
   },
   "outputs": [],
   "source": [
    "predictions_val = predict(model, validation_dataloader)\n"
   ]
  },
  {
   "cell_type": "code",
   "execution_count": null,
   "metadata": {
    "tags": []
   },
   "outputs": [],
   "source": [
    "unique, counts = np.unique(validation_labels.numpy(), return_counts=True)\n",
    "label_counts = dict(zip(unique, counts))\n",
    "print(label_counts)"
   ]
  },
  {
   "cell_type": "code",
   "execution_count": 79,
   "metadata": {
    "tags": []
   },
   "outputs": [],
   "source": [
    "cm = confusion_matrix(validation_labels, predictions_val)"
   ]
  },
  {
   "cell_type": "code",
   "execution_count": 80,
   "metadata": {
    "tags": []
   },
   "outputs": [],
   "source": [
    "cm_df = pd.DataFrame(cm,\n",
    "                     index = ['Autre','Presse','Opinion','Témoignage'], \n",
    "                     columns = ['Autre','Presse','Opinion','Témoignage'])"
   ]
  },
  {
   "cell_type": "code",
   "execution_count": 81,
   "metadata": {
    "tags": []
   },
   "outputs": [
    {
     "data": {
      "image/png": "[encoded data removed]",
      "text/plain": [
       "<Figure size 500x400 with 1 Axes>"
      ]
     },
     "metadata": {},
     "output_type": "display_data"
    }
   ],
   "source": [
    "plt.figure(figsize=(5,4))\n",
    "sns.heatmap(cm_df, annot=True, cbar = False)\n",
    "plt.title('Confusion Matrix')\n",
    "plt.ylabel('')\n",
    "plt.xlabel('Prédictions')\n",
    "plt.show()"
   ]
  },
  {
   "cell_type": "code",
   "execution_count": 55,
   "metadata": {
    "tags": []
   },
   "outputs": [
    {
     "ename": "NameError",
     "evalue": "name 'texts' is not defined",
     "output_type": "error",
     "traceback": [
      "\u001b[0;31m---------------------------------------------------------------------------\u001b[0m",
      "\u001b[0;31mNameError\u001b[0m                                 Traceback (most recent call last)",
      "Cell \u001b[0;32mIn[55], line 2\u001b[0m\n\u001b[1;32m      1\u001b[0m \u001b[38;5;66;03m# Charger les données et les mettre au format approprié\u001b[39;00m\n\u001b[0;32m----> 2\u001b[0m inputs \u001b[38;5;241m=\u001b[39m tokenizer(\u001b[43mtexts\u001b[49m, padding\u001b[38;5;241m=\u001b[39m\u001b[38;5;28;01mTrue\u001b[39;00m, truncation\u001b[38;5;241m=\u001b[39m\u001b[38;5;28;01mTrue\u001b[39;00m, return_tensors\u001b[38;5;241m=\u001b[39m\u001b[38;5;124m\"\u001b[39m\u001b[38;5;124mpt\u001b[39m\u001b[38;5;124m\"\u001b[39m)\n\u001b[1;32m      3\u001b[0m input_ids \u001b[38;5;241m=\u001b[39m inputs[\u001b[38;5;124m\"\u001b[39m\u001b[38;5;124minput_ids\u001b[39m\u001b[38;5;124m\"\u001b[39m]\u001b[38;5;241m.\u001b[39mto(device)\n\u001b[1;32m      4\u001b[0m attention_mask \u001b[38;5;241m=\u001b[39m inputs[\u001b[38;5;124m\"\u001b[39m\u001b[38;5;124mattention_mask\u001b[39m\u001b[38;5;124m\"\u001b[39m]\u001b[38;5;241m.\u001b[39mto(device)\n",
      "\u001b[0;31mNameError\u001b[0m: name 'texts' is not defined"
     ]
    }
   ],
   "source": [
    "# Charger les données et les mettre au format approprié\n",
    "inputs = tokenizer(texts, padding=True, truncation=True, return_tensors=\"pt\")\n",
    "input_ids = inputs[\"input_ids\"].to(device)\n",
    "attention_mask = inputs[\"attention_mask\"].to(device)\n",
    "\n",
    "# Inférer les prédictions et les probabilités de chaque classe\n",
    "with torch.no_grad():\n",
    "    outputs = model(input_ids, attention_mask=attention_mask)\n",
    "    logits = outputs[0]\n",
    "    probs = torch.softmax(logits, dim=-1)\n",
    "    preds = torch.argmax(logits, dim=-1)\n"
   ]
  },
  {
   "cell_type": "code",
   "execution_count": null,
   "metadata": {},
   "outputs": [],
   "source": [
    "# Ajouter une colonne de prédictions\n",
    "df[\"predictions\"] = preds.cpu().numpy()\n",
    "\n",
    "# Ajouter des colonnes de probabilités pour chaque classe\n",
    "for i, label in enumerate(label_list):\n",
    "    df[label] = probs[:, i].cpu().numpy()\n"
   ]
  },
  {
   "cell_type": "code",
   "execution_count": 12,
   "metadata": {
    "colab": {
     "base_uri": "https://localhost:8080/",
     "height": 253
    },
    "id": "pbFcqTLYWnIZ",
    "outputId": "ca5a0099-dba7-4b4e-ad98-14b46dbb3819",
    "tags": []
   },
   "outputs": [
    {
     "name": "stderr",
     "output_type": "stream",
     "text": [
      "Epoch:   0%|          | 0/10 [00:00<?, ?it/s]"
     ]
    },
    {
     "name": "stdout",
     "output_type": "stream",
     "text": [
      "Train loss: 1.2618875404198964\n"
     ]
    },
    {
     "name": "stderr",
     "output_type": "stream",
     "text": [
      "Epoch:  10%|█         | 1/10 [11:58<1:47:46, 718.47s/it]"
     ]
    },
    {
     "name": "stdout",
     "output_type": "stream",
     "text": [
      "Validation Accuracy: 0.683666087962963\n",
      "Train loss: 1.0668712556362152\n"
     ]
    },
    {
     "name": "stderr",
     "output_type": "stream",
     "text": [
      "Epoch:  20%|██        | 2/10 [26:31<1:47:53, 809.18s/it]"
     ]
    },
    {
     "name": "stdout",
     "output_type": "stream",
     "text": [
      "Validation Accuracy: 0.683666087962963\n",
      "Train loss: 0.957703024148941\n"
     ]
    },
    {
     "name": "stderr",
     "output_type": "stream",
     "text": [
      "Epoch:  30%|███       | 3/10 [41:12<1:38:15, 842.14s/it]"
     ]
    },
    {
     "name": "stdout",
     "output_type": "stream",
     "text": [
      "Validation Accuracy: 0.683666087962963\n",
      "Train loss: 0.8441829631725947\n"
     ]
    },
    {
     "name": "stderr",
     "output_type": "stream",
     "text": [
      "Epoch:  40%|████      | 4/10 [56:13<1:26:33, 865.51s/it]"
     ]
    },
    {
     "name": "stdout",
     "output_type": "stream",
     "text": [
      "Validation Accuracy: 0.7936197916666666\n",
      "Train loss: 0.7229040463765463\n"
     ]
    },
    {
     "name": "stderr",
     "output_type": "stream",
     "text": [
      "Epoch:  50%|█████     | 5/10 [1:11:12<1:13:06, 877.36s/it]"
     ]
    },
    {
     "name": "stdout",
     "output_type": "stream",
     "text": [
      "Validation Accuracy: 0.7316261574074074\n",
      "Train loss: 0.6163275490204493\n"
     ]
    },
    {
     "name": "stderr",
     "output_type": "stream",
     "text": [
      "Epoch:  60%|██████    | 6/10 [1:25:21<57:51, 867.90s/it]  "
     ]
    },
    {
     "name": "stdout",
     "output_type": "stream",
     "text": [
      "Validation Accuracy: 0.7779947916666666\n",
      "Train loss: 0.5189388146003088\n"
     ]
    },
    {
     "name": "stderr",
     "output_type": "stream",
     "text": [
      "Epoch:  70%|███████   | 7/10 [1:38:30<42:06, 842.19s/it]"
     ]
    },
    {
     "name": "stdout",
     "output_type": "stream",
     "text": [
      "Validation Accuracy: 0.8236400462962963\n",
      "Train loss: 0.4161665042241414\n"
     ]
    },
    {
     "name": "stderr",
     "output_type": "stream",
     "text": [
      "Epoch:  80%|████████  | 8/10 [1:46:59<24:32, 736.00s/it]"
     ]
    },
    {
     "name": "stdout",
     "output_type": "stream",
     "text": [
      "Validation Accuracy: 0.8298611111111112\n",
      "Train loss: 0.3496982256571452\n"
     ]
    },
    {
     "name": "stderr",
     "output_type": "stream",
     "text": [
      "Epoch:  90%|█████████ | 9/10 [1:54:01<10:37, 637.84s/it]"
     ]
    },
    {
     "name": "stdout",
     "output_type": "stream",
     "text": [
      "Validation Accuracy: 0.8383969907407407\n",
      "Train loss: 0.2971478613714377\n"
     ]
    },
    {
     "name": "stderr",
     "output_type": "stream",
     "text": [
      "Epoch: 100%|██████████| 10/10 [2:00:39<00:00, 723.93s/it]"
     ]
    },
    {
     "name": "stdout",
     "output_type": "stream",
     "text": [
      "Validation Accuracy: 0.8423032407407407\n"
     ]
    },
    {
     "name": "stderr",
     "output_type": "stream",
     "text": [
      "\n"
     ]
    }
   ],
   "source": [
    "### sans early stopping\n",
    "train_loss_set=[]\n",
    "for _ in trange(epochs, desc=\"Epoch\"):  \n",
    "    tr_loss = 0\n",
    "    nb_tr_examples, nb_tr_steps = 0, 0\n",
    "  \n",
    "    # Train the model\n",
    "    model.train()\n",
    "    for step, batch in enumerate(train_dataloader):\n",
    "        batch = tuple(t.to(device) for t in batch)\n",
    "        b_input_ids, b_input_mask, b_labels = batch\n",
    "        optimizer.zero_grad()\n",
    "        outputs = model(b_input_ids,token_type_ids=None, attention_mask=b_input_mask, labels=b_labels.long())\n",
    "        loss = outputs[0]\n",
    "        train_loss_set.append(loss.item())    \n",
    "        loss.backward()\n",
    "        optimizer.step()\n",
    "        tr_loss += loss.item()\n",
    "        nb_tr_examples += b_input_ids.size(0)\n",
    "        nb_tr_steps += 1\n",
    "\n",
    "    print(\"Train loss: {}\".format(tr_loss/nb_tr_steps))\n",
    "    \n",
    "    \n",
    "    eval_loss, eval_accuracy = 0, 0\n",
    "    nb_eval_steps, nb_eval_examples = 0, 0\n",
    "    model.eval()\n",
    "    # Evaluate data for one epoch\n",
    "    for batch in validation_dataloader:\n",
    "        \n",
    "        batch = tuple(t.to(device) for t in batch)\n",
    "        b_input_ids, b_input_mask, b_labels = batch\n",
    "        with torch.no_grad():\n",
    "            outputs =  model(b_input_ids, token_type_ids=None, attention_mask=b_input_mask, labels=b_labels.long())\n",
    "            loss, logits = outputs[:2]\n",
    "    \n",
    "        logits = logits.detach().cpu().numpy()\n",
    "        label_ids = b_labels.to('cpu').numpy()\n",
    "\n",
    "        tmp_eval_accuracy = flat_accuracy(logits, label_ids)\n",
    "    \n",
    "        eval_accuracy += tmp_eval_accuracy\n",
    "        nb_eval_steps += 1\n",
    "\n",
    "    print(\"Validation Accuracy: {}\".format(eval_accuracy/nb_eval_steps))"
   ]
  }
 ],
 "metadata": {
  "colab": {
   "provenance": []
  },
  "kernelspec": {
   "display_name": "Python 3 (ipykernel)",
   "language": "python",
   "name": "python3"
  },
  "language_info": {
   "codemirror_mode": {
    "name": "ipython",
    "version": 3
   },
   "file_extension": ".py",
   "mimetype": "text/x-python",
   "name": "python",
   "nbconvert_exporter": "python",
   "pygments_lexer": "ipython3",
   "version": "3.10.9"
  }
 },
 "nbformat": 4,
 "nbformat_minor": 4
}
